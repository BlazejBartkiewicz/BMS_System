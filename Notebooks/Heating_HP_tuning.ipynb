{
 "nbformat": 4,
 "nbformat_minor": 0,
 "metadata": {
  "colab": {
   "provenance": [],
   "authorship_tag": "ABX9TyP+r2g8HgyEOfSa0wnK5Zko"
  },
  "kernelspec": {
   "name": "python3",
   "display_name": "Python 3"
  },
  "language_info": {
   "name": "python"
  }
 },
 "cells": [
  {
   "cell_type": "code",
   "execution_count": null,
   "metadata": {
    "colab": {
     "base_uri": "https://localhost:8080/"
    },
    "id": "MHWgtO69cTFV",
    "executionInfo": {
     "status": "ok",
     "timestamp": 1706099364231,
     "user_tz": -60,
     "elapsed": 31211,
     "user": {
      "displayName": "Błażej B",
      "userId": "09393835138747022407"
     }
    },
    "outputId": "a871c46f-dd9e-48d0-b413-1764d4f86eba",
    "pycharm": {
     "name": "#%%\n"
    }
   },
   "outputs": [
    {
     "output_type": "stream",
     "name": "stdout",
     "text": [
      "Mounted at /content/drive\n"
     ]
    },
    {
     "output_type": "execute_result",
     "data": {
      "text/plain": [
       "HourId                               int64\n",
       "Month                                int64\n",
       "Day                                  int64\n",
       "Week day                             int64\n",
       "Hour                                 int64\n",
       "Dry-Bulb Temp (Â°C)                float64\n",
       "Heating Load (kW)                    int64\n",
       "Chiller Output (kW)                float64\n",
       "Chiller Input (kW)                 float64\n",
       "Total Building Electric [kW]       float64\n",
       "Precool Coil Load (kW)             float64\n",
       "Preheat Coil Load (kW)             float64\n",
       "Terminal Cooling Coil Load (kW)    float64\n",
       "Terminal Heating Coil Load (kW)    float64\n",
       "Ventilation Fan (kW)               float64\n",
       "Exhaust Fan (kW)                   float64\n",
       "Terminal Fan (kW)                  float64\n",
       "Vent. Reclaim Device (kW)          float64\n",
       "Lighting (kW)                      float64\n",
       "Electric Equipment (kW)            float64\n",
       "dtype: object"
      ]
     },
     "metadata": {},
     "execution_count": 1
    }
   ],
   "source": [
    "from google.colab import drive\n",
    "import pandas as pd\n",
    "from sklearn.model_selection import train_test_split\n",
    "import matplotlib.pyplot as plt\n",
    "import seaborn as sns\n",
    "import numpy as np\n",
    "\n",
    "#Pulling data\n",
    "drive.mount('/content/drive')\n",
    "data_frame = pd.read_csv('/content/drive/My Drive/Praca_inzynierska/Data/Dane_rounded.csv', encoding='unicode_escape', sep=\",\")\n",
    "data_frame.dtypes"
   ]
  },
  {
   "cell_type": "code",
   "source": [
    "X = data_frame.drop(['HourId',\n",
    "                     'Day',\n",
    "                     'Chiller Output (kW)',\n",
    "                     'Chiller Input (kW)',\n",
    "                     'Total Building Electric [kW]',\n",
    "                     'Precool Coil Load (kW)',\n",
    "                     'Preheat Coil Load (kW)',\n",
    "                     'Terminal Cooling Coil Load (kW)',\n",
    "                     'Terminal Heating Coil Load (kW)',\n",
    "                     'Ventilation Fan (kW)',\n",
    "                     'Exhaust Fan (kW)',\n",
    "                     'Terminal Fan (kW)',\n",
    "                     'Vent. Reclaim Device (kW)',\n",
    "                     'Lighting (kW)',\n",
    "                     'Electric Equipment (kW)'], axis=1)\n",
    "X"
   ],
   "metadata": {
    "colab": {
     "base_uri": "https://localhost:8080/",
     "height": 424
    },
    "id": "yd4uC5pkclwG",
    "executionInfo": {
     "status": "ok",
     "timestamp": 1706099369108,
     "user_tz": -60,
     "elapsed": 5,
     "user": {
      "displayName": "Błażej B",
      "userId": "09393835138747022407"
     }
    },
    "outputId": "a51d544e-2d55-4d07-b08f-1159eb99a5fc",
    "pycharm": {
     "name": "#%%\n"
    }
   },
   "execution_count": null,
   "outputs": [
    {
     "output_type": "execute_result",
     "data": {
      "text/plain": [
       "      Month  Week day  Hour  Dry-Bulb Temp (Â°C)  Heating Load (kW)\n",
       "0         1         7     0                 -4.3                220\n",
       "1         1         7     1                 -4.1                220\n",
       "2         1         7     2                 -4.0                230\n",
       "3         1         7     3                 -3.8                230\n",
       "4         1         7     4                 -3.5                230\n",
       "...     ...       ...   ...                  ...                ...\n",
       "8755     12         7    19                  0.2                180\n",
       "8756     12         7    20                  0.3                180\n",
       "8757     12         7    21                  0.3                180\n",
       "8758     12         7    22                  0.3                180\n",
       "8759     12         7    23                  0.2                180\n",
       "\n",
       "[8760 rows x 5 columns]"
      ],
      "text/html": [
       "\n",
       "  <div id=\"df-d8e1ae9c-3318-4e6e-be7b-ef73cbad4694\" class=\"colab-df-container\">\n",
       "    <div>\n",
       "<style scoped>\n",
       "    .dataframe tbody tr th:only-of-type {\n",
       "        vertical-align: middle;\n",
       "    }\n",
       "\n",
       "    .dataframe tbody tr th {\n",
       "        vertical-align: top;\n",
       "    }\n",
       "\n",
       "    .dataframe thead th {\n",
       "        text-align: right;\n",
       "    }\n",
       "</style>\n",
       "<table border=\"1\" class=\"dataframe\">\n",
       "  <thead>\n",
       "    <tr style=\"text-align: right;\">\n",
       "      <th></th>\n",
       "      <th>Month</th>\n",
       "      <th>Week day</th>\n",
       "      <th>Hour</th>\n",
       "      <th>Dry-Bulb Temp (Â°C)</th>\n",
       "      <th>Heating Load (kW)</th>\n",
       "    </tr>\n",
       "  </thead>\n",
       "  <tbody>\n",
       "    <tr>\n",
       "      <th>0</th>\n",
       "      <td>1</td>\n",
       "      <td>7</td>\n",
       "      <td>0</td>\n",
       "      <td>-4.3</td>\n",
       "      <td>220</td>\n",
       "    </tr>\n",
       "    <tr>\n",
       "      <th>1</th>\n",
       "      <td>1</td>\n",
       "      <td>7</td>\n",
       "      <td>1</td>\n",
       "      <td>-4.1</td>\n",
       "      <td>220</td>\n",
       "    </tr>\n",
       "    <tr>\n",
       "      <th>2</th>\n",
       "      <td>1</td>\n",
       "      <td>7</td>\n",
       "      <td>2</td>\n",
       "      <td>-4.0</td>\n",
       "      <td>230</td>\n",
       "    </tr>\n",
       "    <tr>\n",
       "      <th>3</th>\n",
       "      <td>1</td>\n",
       "      <td>7</td>\n",
       "      <td>3</td>\n",
       "      <td>-3.8</td>\n",
       "      <td>230</td>\n",
       "    </tr>\n",
       "    <tr>\n",
       "      <th>4</th>\n",
       "      <td>1</td>\n",
       "      <td>7</td>\n",
       "      <td>4</td>\n",
       "      <td>-3.5</td>\n",
       "      <td>230</td>\n",
       "    </tr>\n",
       "    <tr>\n",
       "      <th>...</th>\n",
       "      <td>...</td>\n",
       "      <td>...</td>\n",
       "      <td>...</td>\n",
       "      <td>...</td>\n",
       "      <td>...</td>\n",
       "    </tr>\n",
       "    <tr>\n",
       "      <th>8755</th>\n",
       "      <td>12</td>\n",
       "      <td>7</td>\n",
       "      <td>19</td>\n",
       "      <td>0.2</td>\n",
       "      <td>180</td>\n",
       "    </tr>\n",
       "    <tr>\n",
       "      <th>8756</th>\n",
       "      <td>12</td>\n",
       "      <td>7</td>\n",
       "      <td>20</td>\n",
       "      <td>0.3</td>\n",
       "      <td>180</td>\n",
       "    </tr>\n",
       "    <tr>\n",
       "      <th>8757</th>\n",
       "      <td>12</td>\n",
       "      <td>7</td>\n",
       "      <td>21</td>\n",
       "      <td>0.3</td>\n",
       "      <td>180</td>\n",
       "    </tr>\n",
       "    <tr>\n",
       "      <th>8758</th>\n",
       "      <td>12</td>\n",
       "      <td>7</td>\n",
       "      <td>22</td>\n",
       "      <td>0.3</td>\n",
       "      <td>180</td>\n",
       "    </tr>\n",
       "    <tr>\n",
       "      <th>8759</th>\n",
       "      <td>12</td>\n",
       "      <td>7</td>\n",
       "      <td>23</td>\n",
       "      <td>0.2</td>\n",
       "      <td>180</td>\n",
       "    </tr>\n",
       "  </tbody>\n",
       "</table>\n",
       "<p>8760 rows × 5 columns</p>\n",
       "</div>\n",
       "    <div class=\"colab-df-buttons\">\n",
       "\n",
       "  <div class=\"colab-df-container\">\n",
       "    <button class=\"colab-df-convert\" onclick=\"convertToInteractive('df-d8e1ae9c-3318-4e6e-be7b-ef73cbad4694')\"\n",
       "            title=\"Convert this dataframe to an interactive table.\"\n",
       "            style=\"display:none;\">\n",
       "\n",
       "  <svg xmlns=\"http://www.w3.org/2000/svg\" height=\"24px\" viewBox=\"0 -960 960 960\">\n",
       "    <path d=\"M120-120v-720h720v720H120Zm60-500h600v-160H180v160Zm220 220h160v-160H400v160Zm0 220h160v-160H400v160ZM180-400h160v-160H180v160Zm440 0h160v-160H620v160ZM180-180h160v-160H180v160Zm440 0h160v-160H620v160Z\"/>\n",
       "  </svg>\n",
       "    </button>\n",
       "\n",
       "  <style>\n",
       "    .colab-df-container {\n",
       "      display:flex;\n",
       "      gap: 12px;\n",
       "    }\n",
       "\n",
       "    .colab-df-convert {\n",
       "      background-color: #E8F0FE;\n",
       "      border: none;\n",
       "      border-radius: 50%;\n",
       "      cursor: pointer;\n",
       "      display: none;\n",
       "      fill: #1967D2;\n",
       "      height: 32px;\n",
       "      padding: 0 0 0 0;\n",
       "      width: 32px;\n",
       "    }\n",
       "\n",
       "    .colab-df-convert:hover {\n",
       "      background-color: #E2EBFA;\n",
       "      box-shadow: 0px 1px 2px rgba(60, 64, 67, 0.3), 0px 1px 3px 1px rgba(60, 64, 67, 0.15);\n",
       "      fill: #174EA6;\n",
       "    }\n",
       "\n",
       "    .colab-df-buttons div {\n",
       "      margin-bottom: 4px;\n",
       "    }\n",
       "\n",
       "    [theme=dark] .colab-df-convert {\n",
       "      background-color: #3B4455;\n",
       "      fill: #D2E3FC;\n",
       "    }\n",
       "\n",
       "    [theme=dark] .colab-df-convert:hover {\n",
       "      background-color: #434B5C;\n",
       "      box-shadow: 0px 1px 3px 1px rgba(0, 0, 0, 0.15);\n",
       "      filter: drop-shadow(0px 1px 2px rgba(0, 0, 0, 0.3));\n",
       "      fill: #FFFFFF;\n",
       "    }\n",
       "  </style>\n",
       "\n",
       "    <script>\n",
       "      const buttonEl =\n",
       "        document.querySelector('#df-d8e1ae9c-3318-4e6e-be7b-ef73cbad4694 button.colab-df-convert');\n",
       "      buttonEl.style.display =\n",
       "        google.colab.kernel.accessAllowed ? 'block' : 'none';\n",
       "\n",
       "      async function convertToInteractive(key) {\n",
       "        const element = document.querySelector('#df-d8e1ae9c-3318-4e6e-be7b-ef73cbad4694');\n",
       "        const dataTable =\n",
       "          await google.colab.kernel.invokeFunction('convertToInteractive',\n",
       "                                                    [key], {});\n",
       "        if (!dataTable) return;\n",
       "\n",
       "        const docLinkHtml = 'Like what you see? Visit the ' +\n",
       "          '<a target=\"_blank\" href=https://colab.research.google.com/notebooks/data_table.ipynb>data table notebook</a>'\n",
       "          + ' to learn more about interactive tables.';\n",
       "        element.innerHTML = '';\n",
       "        dataTable['output_type'] = 'display_data';\n",
       "        await google.colab.output.renderOutput(dataTable, element);\n",
       "        const docLink = document.createElement('div');\n",
       "        docLink.innerHTML = docLinkHtml;\n",
       "        element.appendChild(docLink);\n",
       "      }\n",
       "    </script>\n",
       "  </div>\n",
       "\n",
       "\n",
       "<div id=\"df-e64339d8-46d1-4e27-9fd1-cf8cfce0115b\">\n",
       "  <button class=\"colab-df-quickchart\" onclick=\"quickchart('df-e64339d8-46d1-4e27-9fd1-cf8cfce0115b')\"\n",
       "            title=\"Suggest charts\"\n",
       "            style=\"display:none;\">\n",
       "\n",
       "<svg xmlns=\"http://www.w3.org/2000/svg\" height=\"24px\"viewBox=\"0 0 24 24\"\n",
       "     width=\"24px\">\n",
       "    <g>\n",
       "        <path d=\"M19 3H5c-1.1 0-2 .9-2 2v14c0 1.1.9 2 2 2h14c1.1 0 2-.9 2-2V5c0-1.1-.9-2-2-2zM9 17H7v-7h2v7zm4 0h-2V7h2v10zm4 0h-2v-4h2v4z\"/>\n",
       "    </g>\n",
       "</svg>\n",
       "  </button>\n",
       "\n",
       "<style>\n",
       "  .colab-df-quickchart {\n",
       "      --bg-color: #E8F0FE;\n",
       "      --fill-color: #1967D2;\n",
       "      --hover-bg-color: #E2EBFA;\n",
       "      --hover-fill-color: #174EA6;\n",
       "      --disabled-fill-color: #AAA;\n",
       "      --disabled-bg-color: #DDD;\n",
       "  }\n",
       "\n",
       "  [theme=dark] .colab-df-quickchart {\n",
       "      --bg-color: #3B4455;\n",
       "      --fill-color: #D2E3FC;\n",
       "      --hover-bg-color: #434B5C;\n",
       "      --hover-fill-color: #FFFFFF;\n",
       "      --disabled-bg-color: #3B4455;\n",
       "      --disabled-fill-color: #666;\n",
       "  }\n",
       "\n",
       "  .colab-df-quickchart {\n",
       "    background-color: var(--bg-color);\n",
       "    border: none;\n",
       "    border-radius: 50%;\n",
       "    cursor: pointer;\n",
       "    display: none;\n",
       "    fill: var(--fill-color);\n",
       "    height: 32px;\n",
       "    padding: 0;\n",
       "    width: 32px;\n",
       "  }\n",
       "\n",
       "  .colab-df-quickchart:hover {\n",
       "    background-color: var(--hover-bg-color);\n",
       "    box-shadow: 0 1px 2px rgba(60, 64, 67, 0.3), 0 1px 3px 1px rgba(60, 64, 67, 0.15);\n",
       "    fill: var(--button-hover-fill-color);\n",
       "  }\n",
       "\n",
       "  .colab-df-quickchart-complete:disabled,\n",
       "  .colab-df-quickchart-complete:disabled:hover {\n",
       "    background-color: var(--disabled-bg-color);\n",
       "    fill: var(--disabled-fill-color);\n",
       "    box-shadow: none;\n",
       "  }\n",
       "\n",
       "  .colab-df-spinner {\n",
       "    border: 2px solid var(--fill-color);\n",
       "    border-color: transparent;\n",
       "    border-bottom-color: var(--fill-color);\n",
       "    animation:\n",
       "      spin 1s steps(1) infinite;\n",
       "  }\n",
       "\n",
       "  @keyframes spin {\n",
       "    0% {\n",
       "      border-color: transparent;\n",
       "      border-bottom-color: var(--fill-color);\n",
       "      border-left-color: var(--fill-color);\n",
       "    }\n",
       "    20% {\n",
       "      border-color: transparent;\n",
       "      border-left-color: var(--fill-color);\n",
       "      border-top-color: var(--fill-color);\n",
       "    }\n",
       "    30% {\n",
       "      border-color: transparent;\n",
       "      border-left-color: var(--fill-color);\n",
       "      border-top-color: var(--fill-color);\n",
       "      border-right-color: var(--fill-color);\n",
       "    }\n",
       "    40% {\n",
       "      border-color: transparent;\n",
       "      border-right-color: var(--fill-color);\n",
       "      border-top-color: var(--fill-color);\n",
       "    }\n",
       "    60% {\n",
       "      border-color: transparent;\n",
       "      border-right-color: var(--fill-color);\n",
       "    }\n",
       "    80% {\n",
       "      border-color: transparent;\n",
       "      border-right-color: var(--fill-color);\n",
       "      border-bottom-color: var(--fill-color);\n",
       "    }\n",
       "    90% {\n",
       "      border-color: transparent;\n",
       "      border-bottom-color: var(--fill-color);\n",
       "    }\n",
       "  }\n",
       "</style>\n",
       "\n",
       "  <script>\n",
       "    async function quickchart(key) {\n",
       "      const quickchartButtonEl =\n",
       "        document.querySelector('#' + key + ' button');\n",
       "      quickchartButtonEl.disabled = true;  // To prevent multiple clicks.\n",
       "      quickchartButtonEl.classList.add('colab-df-spinner');\n",
       "      try {\n",
       "        const charts = await google.colab.kernel.invokeFunction(\n",
       "            'suggestCharts', [key], {});\n",
       "      } catch (error) {\n",
       "        console.error('Error during call to suggestCharts:', error);\n",
       "      }\n",
       "      quickchartButtonEl.classList.remove('colab-df-spinner');\n",
       "      quickchartButtonEl.classList.add('colab-df-quickchart-complete');\n",
       "    }\n",
       "    (() => {\n",
       "      let quickchartButtonEl =\n",
       "        document.querySelector('#df-e64339d8-46d1-4e27-9fd1-cf8cfce0115b button');\n",
       "      quickchartButtonEl.style.display =\n",
       "        google.colab.kernel.accessAllowed ? 'block' : 'none';\n",
       "    })();\n",
       "  </script>\n",
       "</div>\n",
       "    </div>\n",
       "  </div>\n"
      ]
     },
     "metadata": {},
     "execution_count": 2
    }
   ]
  },
  {
   "cell_type": "code",
   "source": [
    "X = data_frame[['Month', 'Week day', 'Hour', 'Dry-Bulb Temp (Â°C)']].values\n",
    "y = data_frame['Heating Load (kW)'].values\n",
    "X_train, X_test, y_train, y_test = train_test_split(X, y, test_size=0.2, random_state=42)"
   ],
   "metadata": {
    "id": "GA9Br8w9coJg",
    "pycharm": {
     "name": "#%%\n"
    }
   },
   "execution_count": null,
   "outputs": []
  },
  {
   "cell_type": "code",
   "source": [
    "#pip install keras-tuner --upgrade"
   ],
   "metadata": {
    "colab": {
     "base_uri": "https://localhost:8080/"
    },
    "id": "EHNy79QkdG3f",
    "executionInfo": {
     "status": "ok",
     "timestamp": 1706099512447,
     "user_tz": -60,
     "elapsed": 7803,
     "user": {
      "displayName": "Błażej B",
      "userId": "09393835138747022407"
     }
    },
    "outputId": "38a2c548-c664-4d6a-dbfd-7b4fbf85d070",
    "pycharm": {
     "name": "#%%\n"
    }
   },
   "execution_count": null,
   "outputs": [
    {
     "output_type": "stream",
     "name": "stdout",
     "text": [
      "Collecting keras-tuner\n",
      "  Downloading keras_tuner-1.4.6-py3-none-any.whl (128 kB)\n",
      "\u001B[?25l     \u001B[90m━━━━━━━━━━━━━━━━━━━━━━━━━━━━━━━━━━━━━━━━\u001B[0m \u001B[32m0.0/128.9 kB\u001B[0m \u001B[31m?\u001B[0m eta \u001B[36m-:--:--\u001B[0m\r\u001B[2K     \u001B[91m━━━━━━━━━━━━━━━━━━━━━━━━━\u001B[0m\u001B[90m╺\u001B[0m\u001B[90m━━━━━━━━━━━━━━\u001B[0m \u001B[32m81.9/128.9 kB\u001B[0m \u001B[31m2.5 MB/s\u001B[0m eta \u001B[36m0:00:01\u001B[0m\r\u001B[2K     \u001B[90m━━━━━━━━━━━━━━━━━━━━━━━━━━━━━━━━━━━━━━━━\u001B[0m \u001B[32m128.9/128.9 kB\u001B[0m \u001B[31m2.6 MB/s\u001B[0m eta \u001B[36m0:00:00\u001B[0m\n",
      "\u001B[?25hRequirement already satisfied: keras in /usr/local/lib/python3.10/dist-packages (from keras-tuner) (2.15.0)\n",
      "Requirement already satisfied: packaging in /usr/local/lib/python3.10/dist-packages (from keras-tuner) (23.2)\n",
      "Requirement already satisfied: requests in /usr/local/lib/python3.10/dist-packages (from keras-tuner) (2.31.0)\n",
      "Collecting kt-legacy (from keras-tuner)\n",
      "  Downloading kt_legacy-1.0.5-py3-none-any.whl (9.6 kB)\n",
      "Requirement already satisfied: charset-normalizer<4,>=2 in /usr/local/lib/python3.10/dist-packages (from requests->keras-tuner) (3.3.2)\n",
      "Requirement already satisfied: idna<4,>=2.5 in /usr/local/lib/python3.10/dist-packages (from requests->keras-tuner) (3.6)\n",
      "Requirement already satisfied: urllib3<3,>=1.21.1 in /usr/local/lib/python3.10/dist-packages (from requests->keras-tuner) (2.0.7)\n",
      "Requirement already satisfied: certifi>=2017.4.17 in /usr/local/lib/python3.10/dist-packages (from requests->keras-tuner) (2023.11.17)\n",
      "Installing collected packages: kt-legacy, keras-tuner\n",
      "Successfully installed keras-tuner-1.4.6 kt-legacy-1.0.5\n"
     ]
    }
   ]
  },
  {
   "cell_type": "code",
   "source": [
    "import keras_tuner\n",
    "import keras\n",
    "import tensorflow as tf\n",
    "from tensorflow.keras.models import Sequential\n",
    "from tensorflow.keras.layers import Dense\n",
    "from kerastuner.tuners import RandomSearch"
   ],
   "metadata": {
    "id": "fQqnD571c-Qk",
    "pycharm": {
     "name": "#%%\n"
    }
   },
   "execution_count": null,
   "outputs": []
  },
  {
   "cell_type": "code",
   "source": [
    "def create_neural_network(hp):\n",
    "    model = Sequential()\n",
    "    model.add(Dense(64, input_dim=4, activation='relu'))\n",
    "\n",
    "    model.add(Dense(units= hp.Int('layer_1',\n",
    "                                  min_value=16,\n",
    "                                  max_value=128,\n",
    "                                  step=16),\n",
    "                    activation='relu'))\n",
    "    model.add(Dense(units= hp.Int('layer_2',\n",
    "                                  min_value=16,\n",
    "                                  max_value=128,\n",
    "                                  step=16),\n",
    "                    activation='relu'))\n",
    "    model.add(Dense(1, activation='linear'))\n",
    "\n",
    "    model.compile(loss='mean_squared_error',\n",
    "                  optimizer=keras.optimizers.Adam(\n",
    "                      hp.Choice('learning_rate',\n",
    "                                values=[1e-2, 1e-3, 1e-4])),\n",
    "                  metrics=['mae'])\n",
    "\n",
    "    return model"
   ],
   "metadata": {
    "id": "7MRxAOSNcrie",
    "pycharm": {
     "name": "#%%\n"
    }
   },
   "execution_count": null,
   "outputs": []
  },
  {
   "cell_type": "code",
   "source": [
    "tuner = RandomSearch(\n",
    "    create_neural_network,\n",
    "    objective= 'val_mae',\n",
    "    max_trials=5,\n",
    "    executions_per_trial = 3,\n",
    "    directory='my_dir',\n",
    "    project_name='Heating_tuning_2_hidden_layers'\n",
    ")"
   ],
   "metadata": {
    "id": "qdngkDy3l7TK",
    "pycharm": {
     "name": "#%%\n"
    }
   },
   "execution_count": null,
   "outputs": []
  },
  {
   "cell_type": "code",
   "source": [
    "tuner.search_space_summary()"
   ],
   "metadata": {
    "colab": {
     "base_uri": "https://localhost:8080/"
    },
    "id": "100knum6tpgD",
    "executionInfo": {
     "status": "ok",
     "timestamp": 1706105282631,
     "user_tz": -60,
     "elapsed": 562,
     "user": {
      "displayName": "Błażej B",
      "userId": "09393835138747022407"
     }
    },
    "outputId": "360c2e9a-8287-4942-dabe-0491cf593aa2",
    "pycharm": {
     "name": "#%%\n"
    }
   },
   "execution_count": null,
   "outputs": [
    {
     "output_type": "stream",
     "name": "stdout",
     "text": [
      "Search space summary\n",
      "Default search space size: 3\n",
      "layer_1 (Int)\n",
      "{'default': None, 'conditions': [], 'min_value': 16, 'max_value': 128, 'step': 16, 'sampling': 'linear'}\n",
      "layer_2 (Int)\n",
      "{'default': None, 'conditions': [], 'min_value': 16, 'max_value': 128, 'step': 16, 'sampling': 'linear'}\n",
      "learning_rate (Choice)\n",
      "{'default': 0.01, 'conditions': [], 'values': [0.01, 0.001, 0.0001], 'ordered': True}\n"
     ]
    }
   ]
  },
  {
   "cell_type": "code",
   "source": [
    "tuner.search(X_train, y_train,\n",
    "             epochs=20,\n",
    "             validation_data=(X_test, y_test))"
   ],
   "metadata": {
    "colab": {
     "base_uri": "https://localhost:8080/"
    },
    "id": "_u34pKWauIjt",
    "executionInfo": {
     "status": "ok",
     "timestamp": 1706105582319,
     "user_tz": -60,
     "elapsed": 291895,
     "user": {
      "displayName": "Błażej B",
      "userId": "09393835138747022407"
     }
    },
    "outputId": "ef7b0b2e-b71a-4a1a-d243-d54d301f8161",
    "pycharm": {
     "name": "#%%\n"
    }
   },
   "execution_count": null,
   "outputs": [
    {
     "output_type": "stream",
     "name": "stdout",
     "text": [
      "Trial 5 Complete [00h 01m 06s]\n",
      "val_mae: 53.414703369140625\n",
      "\n",
      "Best val_mae So Far: 53.414703369140625\n",
      "Total elapsed time: 00h 04m 52s\n"
     ]
    }
   ]
  },
  {
   "cell_type": "code",
   "source": [
    "tuner.results_summary()"
   ],
   "metadata": {
    "colab": {
     "base_uri": "https://localhost:8080/"
    },
    "id": "UxbpxT3juxGd",
    "executionInfo": {
     "status": "ok",
     "timestamp": 1706105718134,
     "user_tz": -60,
     "elapsed": 442,
     "user": {
      "displayName": "Błażej B",
      "userId": "09393835138747022407"
     }
    },
    "outputId": "b8637fbc-1821-4356-98c4-59e95fd6122d",
    "pycharm": {
     "name": "#%%\n"
    }
   },
   "execution_count": null,
   "outputs": [
    {
     "output_type": "stream",
     "name": "stdout",
     "text": [
      "Results summary\n",
      "Results in my_dir/Heating_tuning_2_hidden_layers\n",
      "Showing 10 best trials\n",
      "Objective(name=\"val_mae\", direction=\"min\")\n",
      "\n",
      "Trial 4 summary\n",
      "Hyperparameters:\n",
      "layer_1: 48\n",
      "layer_2: 128\n",
      "learning_rate: 0.01\n",
      "Score: 53.414703369140625\n",
      "\n",
      "Trial 1 summary\n",
      "Hyperparameters:\n",
      "layer_1: 48\n",
      "layer_2: 48\n",
      "learning_rate: 0.01\n",
      "Score: 53.631998697916664\n",
      "\n",
      "Trial 3 summary\n",
      "Hyperparameters:\n",
      "layer_1: 112\n",
      "layer_2: 112\n",
      "learning_rate: 0.01\n",
      "Score: 53.93716049194336\n",
      "\n",
      "Trial 0 summary\n",
      "Hyperparameters:\n",
      "layer_1: 112\n",
      "layer_2: 64\n",
      "learning_rate: 0.001\n",
      "Score: 61.621910095214844\n",
      "\n",
      "Trial 2 summary\n",
      "Hyperparameters:\n",
      "layer_1: 32\n",
      "layer_2: 96\n",
      "learning_rate: 0.0001\n",
      "Score: 85.94647979736328\n"
     ]
    }
   ]
  },
  {
   "cell_type": "markdown",
   "source": [
    "# **Tuning number of layers and number of neurons**"
   ],
   "metadata": {
    "id": "bIEo6xkz1BKb",
    "pycharm": {
     "name": "#%% md\n"
    }
   }
  },
  {
   "cell_type": "code",
   "source": [
    "def create_neural_network_2(hp):\n",
    "    model = Sequential()\n",
    "    model.add(Dense(64, input_dim=4, activation='relu'))\n",
    "\n",
    "    for i in range(hp.Int('layers', 1, 4)):\n",
    "      model.add(Dense(units= hp.Int('layer_'+ str(i),\n",
    "                                  min_value=16,\n",
    "                                  max_value=128,\n",
    "                                  step=16),\n",
    "                    activation=hp.Choice('act_' + str(i), ['relu','sigmoid'])))\n",
    "\n",
    "    model.add(Dense(1, activation='linear'))\n",
    "\n",
    "    model.compile(loss='mean_squared_error',\n",
    "                  optimizer=keras.optimizers.Adam(\n",
    "                      hp.Choice('learning_rate',\n",
    "                                values=[1e-2, 1e-3, 1e-4])),\n",
    "                  metrics=['mae'])\n",
    "    return model"
   ],
   "metadata": {
    "id": "DRthC1um1JKW",
    "pycharm": {
     "name": "#%%\n"
    }
   },
   "execution_count": null,
   "outputs": []
  },
  {
   "cell_type": "code",
   "source": [
    "tuner2 = RandomSearch(\n",
    "    create_neural_network_2,\n",
    "    objective= 'val_mae',\n",
    "    max_trials=5,\n",
    "    executions_per_trial = 3,\n",
    "    directory='my_dir',\n",
    "    project_name='Heating_tuning_final'\n",
    ")"
   ],
   "metadata": {
    "id": "Pd47kQma2IPv",
    "pycharm": {
     "name": "#%%\n"
    }
   },
   "execution_count": null,
   "outputs": []
  },
  {
   "cell_type": "code",
   "source": [
    "tuner2.search_space_summary()"
   ],
   "metadata": {
    "colab": {
     "base_uri": "https://localhost:8080/"
    },
    "id": "TCUjqKcz2Tm8",
    "executionInfo": {
     "status": "ok",
     "timestamp": 1706106861710,
     "user_tz": -60,
     "elapsed": 621,
     "user": {
      "displayName": "Błażej B",
      "userId": "09393835138747022407"
     }
    },
    "outputId": "d5df9313-a29a-473c-fc3c-51daaa195e75",
    "pycharm": {
     "name": "#%%\n"
    }
   },
   "execution_count": null,
   "outputs": [
    {
     "output_type": "stream",
     "name": "stdout",
     "text": [
      "Search space summary\n",
      "Default search space size: 10\n",
      "layers (Int)\n",
      "{'default': None, 'conditions': [], 'min_value': 1, 'max_value': 4, 'step': 1, 'sampling': 'linear'}\n",
      "layer_0 (Int)\n",
      "{'default': None, 'conditions': [], 'min_value': 16, 'max_value': 128, 'step': 16, 'sampling': 'linear'}\n",
      "act_0 (Choice)\n",
      "{'default': 'relu', 'conditions': [], 'values': ['relu', 'sigmoid'], 'ordered': False}\n",
      "learning_rate (Choice)\n",
      "{'default': 0.01, 'conditions': [], 'values': [0.01, 0.001, 0.0001], 'ordered': True}\n",
      "layer_1 (Int)\n",
      "{'default': None, 'conditions': [], 'min_value': 16, 'max_value': 128, 'step': 16, 'sampling': 'linear'}\n",
      "act_1 (Choice)\n",
      "{'default': 'relu', 'conditions': [], 'values': ['relu', 'sigmoid'], 'ordered': False}\n",
      "layer_2 (Int)\n",
      "{'default': None, 'conditions': [], 'min_value': 16, 'max_value': 128, 'step': 16, 'sampling': 'linear'}\n",
      "act_2 (Choice)\n",
      "{'default': 'relu', 'conditions': [], 'values': ['relu', 'sigmoid'], 'ordered': False}\n",
      "layer_3 (Int)\n",
      "{'default': None, 'conditions': [], 'min_value': 16, 'max_value': 128, 'step': 16, 'sampling': 'linear'}\n",
      "act_3 (Choice)\n",
      "{'default': 'relu', 'conditions': [], 'values': ['relu', 'sigmoid'], 'ordered': False}\n"
     ]
    }
   ]
  },
  {
   "cell_type": "code",
   "source": [
    "tuner2.search(X_train, y_train,\n",
    "             epochs=20,\n",
    "             validation_data=(X_test, y_test))"
   ],
   "metadata": {
    "id": "d1cniGjs2Zbu",
    "pycharm": {
     "name": "#%%\n"
    }
   },
   "execution_count": null,
   "outputs": []
  },
  {
   "cell_type": "code",
   "source": [
    "tuner2.results_summary()"
   ],
   "metadata": {
    "colab": {
     "base_uri": "https://localhost:8080/"
    },
    "id": "_sH0IYJn5XRx",
    "executionInfo": {
     "status": "ok",
     "timestamp": 1706106914188,
     "user_tz": -60,
     "elapsed": 4,
     "user": {
      "displayName": "Błażej B",
      "userId": "09393835138747022407"
     }
    },
    "outputId": "53509fc2-383a-4802-ab72-4d64b4f61909",
    "pycharm": {
     "name": "#%%\n"
    }
   },
   "execution_count": null,
   "outputs": [
    {
     "output_type": "stream",
     "name": "stdout",
     "text": [
      "Results summary\n",
      "Results in my_dir/Heating_tuning_final\n",
      "Showing 10 best trials\n",
      "Objective(name=\"val_mae\", direction=\"min\")\n",
      "\n",
      "Trial 0 summary\n",
      "Hyperparameters:\n",
      "layers: 2\n",
      "layer_0: 96\n",
      "act_0: relu\n",
      "learning_rate: 0.01\n",
      "layer_1: 16\n",
      "act_1: relu\n",
      "Score: 53.965101877848305\n",
      "\n",
      "Trial 4 summary\n",
      "Hyperparameters:\n",
      "layers: 3\n",
      "layer_0: 64\n",
      "act_0: sigmoid\n",
      "learning_rate: 0.01\n",
      "layer_1: 16\n",
      "act_1: sigmoid\n",
      "layer_2: 64\n",
      "act_2: relu\n",
      "layer_3: 96\n",
      "act_3: relu\n",
      "Score: 57.23358027140299\n",
      "\n",
      "Trial 1 summary\n",
      "Hyperparameters:\n",
      "layers: 2\n",
      "layer_0: 16\n",
      "act_0: relu\n",
      "learning_rate: 0.01\n",
      "layer_1: 80\n",
      "act_1: relu\n",
      "Score: 57.60533777872721\n",
      "\n",
      "Trial 2 summary\n",
      "Hyperparameters:\n",
      "layers: 1\n",
      "layer_0: 32\n",
      "act_0: relu\n",
      "learning_rate: 0.01\n",
      "layer_1: 64\n",
      "act_1: relu\n",
      "Score: 58.90008417765299\n",
      "\n",
      "Trial 3 summary\n",
      "Hyperparameters:\n",
      "layers: 4\n",
      "layer_0: 112\n",
      "act_0: sigmoid\n",
      "learning_rate: 0.001\n",
      "layer_1: 112\n",
      "act_1: relu\n",
      "layer_2: 16\n",
      "act_2: relu\n",
      "layer_3: 16\n",
      "act_3: relu\n",
      "Score: 59.627845764160156\n"
     ]
    }
   ]
  },
  {
   "cell_type": "markdown",
   "source": [
    "Analizując powyższe wyniki, model który będzie działał najlepiej posiada dwie ukryte warstwy\n",
    "\n",
    "*   Warstwa 1 (96 neuronów, aktywator Relu)\n",
    "*   Warstwa 2 (16 neuronów, aktywator Relu)\n",
    "\n",
    "Wynik eksperymentów osiągnął MAE na poziomie 53.97\n"
   ],
   "metadata": {
    "id": "hnHOU8dZ5isy",
    "pycharm": {
     "name": "#%% md\n"
    }
   }
  },
  {
   "cell_type": "markdown",
   "source": [
    "# Tworzenie modelu"
   ],
   "metadata": {
    "id": "NwImwygw84q0",
    "pycharm": {
     "name": "#%% md\n"
    }
   }
  },
  {
   "cell_type": "code",
   "source": [
    "def create_heating_model():\n",
    "    model = Sequential()\n",
    "\n",
    "    model.add(Dense(64, input_dim=4, activation='relu'))\n",
    "\n",
    "    model.add(Dense(96, activation='relu'))\n",
    "    model.add(Dense(16, activation='relu'))\n",
    "\n",
    "    model.add(Dense(1))\n",
    "\n",
    "    model.compile(loss='mean_squared_error', optimizer='adam', metrics=['mae'])\n",
    "\n",
    "    return model"
   ],
   "metadata": {
    "id": "773IBW3U84Pc",
    "pycharm": {
     "name": "#%%\n"
    }
   },
   "execution_count": null,
   "outputs": []
  },
  {
   "cell_type": "code",
   "source": [
    "heating_model = create_heating_model()\n",
    "history = heating_model.fit(X_train, y_train, epochs=200, batch_size=2, validation_data=(X_test, y_test))\n",
    "mse, mae = heating_model.evaluate(X_test, y_test)\n",
    "print(f'Mean Squared Error: {mse}, Mean Absolute Error: {mae}')"
   ],
   "metadata": {
    "colab": {
     "base_uri": "https://localhost:8080/"
    },
    "id": "cJZm-tZA9WTd",
    "executionInfo": {
     "status": "ok",
     "timestamp": 1706109839013,
     "user_tz": -60,
     "elapsed": 1764160,
     "user": {
      "displayName": "Błażej B",
      "userId": "09393835138747022407"
     }
    },
    "outputId": "dbee1fcc-3f7c-4934-bb11-18fd201e1f5a",
    "pycharm": {
     "name": "#%%\n"
    }
   },
   "execution_count": null,
   "outputs": [
    {
     "output_type": "stream",
     "name": "stdout",
     "text": [
      "Epoch 1/200\n",
      "3504/3504 [==============================] - 10s 3ms/step - loss: 18845.9941 - mae: 85.8628 - val_loss: 16772.5645 - val_mae: 80.2914\n",
      "Epoch 2/200\n",
      "3504/3504 [==============================] - 10s 3ms/step - loss: 14718.6299 - mae: 76.0209 - val_loss: 14587.4062 - val_mae: 74.1259\n",
      "Epoch 3/200\n",
      "3504/3504 [==============================] - 8s 2ms/step - loss: 12733.2178 - mae: 70.2849 - val_loss: 13401.6533 - val_mae: 69.1909\n",
      "Epoch 4/200\n",
      "3504/3504 [==============================] - 11s 3ms/step - loss: 11790.3057 - mae: 67.1606 - val_loss: 12861.8604 - val_mae: 70.4456\n",
      "Epoch 5/200\n",
      "3504/3504 [==============================] - 10s 3ms/step - loss: 11457.6689 - mae: 66.1260 - val_loss: 12498.6338 - val_mae: 68.2358\n",
      "Epoch 6/200\n",
      "3504/3504 [==============================] - 8s 2ms/step - loss: 11230.4111 - mae: 64.9018 - val_loss: 12482.3154 - val_mae: 66.6985\n",
      "Epoch 7/200\n",
      "3504/3504 [==============================] - 9s 3ms/step - loss: 10962.6357 - mae: 64.9138 - val_loss: 12591.1758 - val_mae: 69.4235\n",
      "Epoch 8/200\n",
      "3504/3504 [==============================] - 10s 3ms/step - loss: 10657.2959 - mae: 63.5718 - val_loss: 11499.1240 - val_mae: 69.7294\n",
      "Epoch 9/200\n",
      "3504/3504 [==============================] - 8s 2ms/step - loss: 10471.1133 - mae: 62.9717 - val_loss: 11646.2354 - val_mae: 68.6613\n",
      "Epoch 10/200\n",
      "3504/3504 [==============================] - 12s 3ms/step - loss: 10273.0078 - mae: 62.1845 - val_loss: 11565.2051 - val_mae: 64.7743\n",
      "Epoch 11/200\n",
      "3504/3504 [==============================] - 9s 3ms/step - loss: 9982.5850 - mae: 61.1451 - val_loss: 11378.9727 - val_mae: 68.7731\n",
      "Epoch 12/200\n",
      "3504/3504 [==============================] - 8s 2ms/step - loss: 9644.8691 - mae: 59.9623 - val_loss: 11033.5420 - val_mae: 66.4665\n",
      "Epoch 13/200\n",
      "3504/3504 [==============================] - 9s 3ms/step - loss: 9408.1299 - mae: 59.1691 - val_loss: 10224.1602 - val_mae: 64.4444\n",
      "Epoch 14/200\n",
      "3504/3504 [==============================] - 12s 3ms/step - loss: 9142.8594 - mae: 57.9550 - val_loss: 9787.9844 - val_mae: 60.6373\n",
      "Epoch 15/200\n",
      "3504/3504 [==============================] - 8s 2ms/step - loss: 8837.1670 - mae: 56.8977 - val_loss: 9702.2988 - val_mae: 57.9188\n",
      "Epoch 16/200\n",
      "3504/3504 [==============================] - 9s 3ms/step - loss: 8588.3604 - mae: 55.6514 - val_loss: 9966.8135 - val_mae: 56.8455\n",
      "Epoch 17/200\n",
      "3504/3504 [==============================] - 10s 3ms/step - loss: 8406.1426 - mae: 54.8760 - val_loss: 8734.0400 - val_mae: 55.1659\n",
      "Epoch 18/200\n",
      "3504/3504 [==============================] - 8s 2ms/step - loss: 8211.1768 - mae: 53.5303 - val_loss: 8827.6602 - val_mae: 56.6642\n",
      "Epoch 19/200\n",
      "3504/3504 [==============================] - 9s 3ms/step - loss: 7967.1191 - mae: 53.3405 - val_loss: 10543.3711 - val_mae: 56.5464\n",
      "Epoch 20/200\n",
      "3504/3504 [==============================] - 9s 3ms/step - loss: 7909.7017 - mae: 52.1942 - val_loss: 7929.6069 - val_mae: 53.7527\n",
      "Epoch 21/200\n",
      "3504/3504 [==============================] - 8s 2ms/step - loss: 7626.6006 - mae: 51.2948 - val_loss: 7931.6460 - val_mae: 51.8503\n",
      "Epoch 22/200\n",
      "3504/3504 [==============================] - 9s 3ms/step - loss: 7561.2300 - mae: 50.6309 - val_loss: 9204.3877 - val_mae: 53.5563\n",
      "Epoch 23/200\n",
      "3504/3504 [==============================] - 8s 2ms/step - loss: 7378.2705 - mae: 50.2041 - val_loss: 7641.9419 - val_mae: 50.7472\n",
      "Epoch 24/200\n",
      "3504/3504 [==============================] - 9s 3ms/step - loss: 7295.2021 - mae: 49.3983 - val_loss: 7859.6763 - val_mae: 53.0254\n",
      "Epoch 25/200\n",
      "3504/3504 [==============================] - 9s 3ms/step - loss: 7191.4673 - mae: 49.0819 - val_loss: 7131.3403 - val_mae: 49.7451\n",
      "Epoch 26/200\n",
      "3504/3504 [==============================] - 8s 2ms/step - loss: 6860.8931 - mae: 47.6302 - val_loss: 6990.2749 - val_mae: 48.6247\n",
      "Epoch 27/200\n",
      "3504/3504 [==============================] - 9s 3ms/step - loss: 6684.3301 - mae: 47.3581 - val_loss: 6638.2173 - val_mae: 49.3960\n",
      "Epoch 28/200\n",
      "3504/3504 [==============================] - 9s 3ms/step - loss: 6522.9087 - mae: 46.4218 - val_loss: 6637.8906 - val_mae: 48.0534\n",
      "Epoch 29/200\n",
      "3504/3504 [==============================] - 8s 2ms/step - loss: 6420.0215 - mae: 45.7583 - val_loss: 6956.6050 - val_mae: 48.4146\n",
      "Epoch 30/200\n",
      "3504/3504 [==============================] - 9s 3ms/step - loss: 6154.9526 - mae: 44.7935 - val_loss: 6027.8013 - val_mae: 45.5317\n",
      "Epoch 31/200\n",
      "3504/3504 [==============================] - 9s 3ms/step - loss: 6058.4111 - mae: 43.9286 - val_loss: 8127.1138 - val_mae: 49.7607\n",
      "Epoch 32/200\n",
      "3504/3504 [==============================] - 8s 2ms/step - loss: 5693.1411 - mae: 42.5534 - val_loss: 6159.9956 - val_mae: 43.3232\n",
      "Epoch 33/200\n",
      "3504/3504 [==============================] - 9s 3ms/step - loss: 5368.0425 - mae: 41.2636 - val_loss: 5170.4893 - val_mae: 42.8474\n",
      "Epoch 34/200\n",
      "3504/3504 [==============================] - 8s 2ms/step - loss: 5672.8682 - mae: 42.1569 - val_loss: 6062.0601 - val_mae: 46.0550\n",
      "Epoch 35/200\n",
      "3504/3504 [==============================] - 9s 2ms/step - loss: 5290.4058 - mae: 40.8326 - val_loss: 8371.7061 - val_mae: 50.6525\n",
      "Epoch 36/200\n",
      "3504/3504 [==============================] - 9s 3ms/step - loss: 5158.9834 - mae: 40.0716 - val_loss: 5945.3770 - val_mae: 41.6333\n",
      "Epoch 37/200\n",
      "3504/3504 [==============================] - 8s 2ms/step - loss: 5157.0098 - mae: 39.6611 - val_loss: 5422.7388 - val_mae: 41.8697\n",
      "Epoch 38/200\n",
      "3504/3504 [==============================] - 9s 3ms/step - loss: 4843.8110 - mae: 38.3300 - val_loss: 4932.9907 - val_mae: 39.6804\n",
      "Epoch 39/200\n",
      "3504/3504 [==============================] - 9s 3ms/step - loss: 4927.1353 - mae: 38.6198 - val_loss: 4575.8506 - val_mae: 39.3030\n",
      "Epoch 40/200\n",
      "3504/3504 [==============================] - 8s 2ms/step - loss: 4661.0386 - mae: 37.4257 - val_loss: 4602.9448 - val_mae: 36.6599\n",
      "Epoch 41/200\n",
      "3504/3504 [==============================] - 9s 3ms/step - loss: 4543.4624 - mae: 37.1150 - val_loss: 6331.2441 - val_mae: 41.9652\n",
      "Epoch 42/200\n",
      "3504/3504 [==============================] - 8s 2ms/step - loss: 4700.3179 - mae: 37.3068 - val_loss: 6269.8828 - val_mae: 40.7677\n",
      "Epoch 43/200\n",
      "3504/3504 [==============================] - 9s 2ms/step - loss: 4745.1152 - mae: 36.9324 - val_loss: 4324.9722 - val_mae: 37.2407\n",
      "Epoch 44/200\n",
      "3504/3504 [==============================] - 9s 3ms/step - loss: 4541.6694 - mae: 36.4585 - val_loss: 5239.3101 - val_mae: 37.8138\n",
      "Epoch 45/200\n",
      "3504/3504 [==============================] - 8s 2ms/step - loss: 4337.2817 - mae: 35.3753 - val_loss: 4786.7002 - val_mae: 37.5205\n",
      "Epoch 46/200\n",
      "3504/3504 [==============================] - 9s 3ms/step - loss: 4338.5068 - mae: 35.0180 - val_loss: 4401.5244 - val_mae: 34.3679\n",
      "Epoch 47/200\n",
      "3504/3504 [==============================] - 10s 3ms/step - loss: 4355.9624 - mae: 35.3274 - val_loss: 3822.7585 - val_mae: 33.9186\n",
      "Epoch 48/200\n",
      "3504/3504 [==============================] - 8s 2ms/step - loss: 4445.7910 - mae: 35.1270 - val_loss: 4408.6743 - val_mae: 35.3941\n",
      "Epoch 49/200\n",
      "3504/3504 [==============================] - 9s 3ms/step - loss: 4070.5146 - mae: 34.0666 - val_loss: 5416.6392 - val_mae: 39.4545\n",
      "Epoch 50/200\n",
      "3504/3504 [==============================] - 9s 3ms/step - loss: 4547.8232 - mae: 35.9640 - val_loss: 6251.4990 - val_mae: 41.0283\n",
      "Epoch 51/200\n",
      "3504/3504 [==============================] - 8s 2ms/step - loss: 4202.5781 - mae: 34.0717 - val_loss: 3977.5291 - val_mae: 33.8923\n",
      "Epoch 52/200\n",
      "3504/3504 [==============================] - 9s 3ms/step - loss: 4273.8584 - mae: 33.6492 - val_loss: 4382.2539 - val_mae: 34.1091\n",
      "Epoch 53/200\n",
      "3504/3504 [==============================] - 8s 2ms/step - loss: 3881.6423 - mae: 32.5022 - val_loss: 3148.6465 - val_mae: 32.1083\n",
      "Epoch 54/200\n",
      "3504/3504 [==============================] - 9s 3ms/step - loss: 4111.4907 - mae: 33.4715 - val_loss: 3984.0193 - val_mae: 33.6737\n",
      "Epoch 55/200\n",
      "3504/3504 [==============================] - 9s 3ms/step - loss: 4234.3828 - mae: 33.4751 - val_loss: 3417.8035 - val_mae: 31.7156\n",
      "Epoch 56/200\n",
      "3504/3504 [==============================] - 8s 2ms/step - loss: 4049.6633 - mae: 33.4880 - val_loss: 3939.7351 - val_mae: 33.4642\n",
      "Epoch 57/200\n",
      "3504/3504 [==============================] - 9s 3ms/step - loss: 3833.9961 - mae: 32.4440 - val_loss: 3943.7825 - val_mae: 33.1488\n",
      "Epoch 58/200\n",
      "3504/3504 [==============================] - 9s 3ms/step - loss: 3978.9990 - mae: 32.5940 - val_loss: 5166.6187 - val_mae: 35.4575\n",
      "Epoch 59/200\n",
      "3504/3504 [==============================] - 8s 2ms/step - loss: 3960.7034 - mae: 32.0670 - val_loss: 4041.8545 - val_mae: 36.5320\n",
      "Epoch 60/200\n",
      "3504/3504 [==============================] - 9s 3ms/step - loss: 3908.4226 - mae: 32.0010 - val_loss: 4803.2021 - val_mae: 33.0015\n",
      "Epoch 61/200\n",
      "3504/3504 [==============================] - 9s 3ms/step - loss: 3884.4473 - mae: 31.5739 - val_loss: 3533.2214 - val_mae: 31.7686\n",
      "Epoch 62/200\n",
      "3504/3504 [==============================] - 8s 2ms/step - loss: 3785.6406 - mae: 31.5114 - val_loss: 5870.4448 - val_mae: 34.5828\n",
      "Epoch 63/200\n",
      "3504/3504 [==============================] - 9s 3ms/step - loss: 3807.7549 - mae: 31.7549 - val_loss: 4590.4404 - val_mae: 36.8775\n",
      "Epoch 64/200\n",
      "3504/3504 [==============================] - 9s 3ms/step - loss: 3996.4077 - mae: 32.0755 - val_loss: 4219.1445 - val_mae: 31.9207\n",
      "Epoch 65/200\n",
      "3504/3504 [==============================] - 8s 2ms/step - loss: 3581.7280 - mae: 30.8576 - val_loss: 6613.7227 - val_mae: 39.7394\n",
      "Epoch 66/200\n",
      "3504/3504 [==============================] - 9s 3ms/step - loss: 3661.1616 - mae: 31.2397 - val_loss: 2734.4275 - val_mae: 28.8295\n",
      "Epoch 67/200\n",
      "3504/3504 [==============================] - 8s 2ms/step - loss: 3727.0569 - mae: 31.0874 - val_loss: 2985.1211 - val_mae: 28.6226\n",
      "Epoch 68/200\n",
      "3504/3504 [==============================] - 9s 2ms/step - loss: 3786.2253 - mae: 31.0218 - val_loss: 4463.9819 - val_mae: 35.7668\n",
      "Epoch 69/200\n",
      "3504/3504 [==============================] - 9s 3ms/step - loss: 3829.5720 - mae: 30.9318 - val_loss: 3224.4956 - val_mae: 29.2101\n",
      "Epoch 70/200\n",
      "3504/3504 [==============================] - 8s 2ms/step - loss: 3761.9802 - mae: 31.2641 - val_loss: 3489.3376 - val_mae: 28.7888\n",
      "Epoch 71/200\n",
      "3504/3504 [==============================] - 9s 3ms/step - loss: 3633.8279 - mae: 30.5029 - val_loss: 5754.4531 - val_mae: 35.0293\n",
      "Epoch 72/200\n",
      "3504/3504 [==============================] - 10s 3ms/step - loss: 3800.6108 - mae: 31.0500 - val_loss: 2979.1838 - val_mae: 28.7782\n",
      "Epoch 73/200\n",
      "3504/3504 [==============================] - 8s 2ms/step - loss: 3697.1152 - mae: 30.2986 - val_loss: 2873.6675 - val_mae: 29.5203\n",
      "Epoch 74/200\n",
      "3504/3504 [==============================] - 9s 3ms/step - loss: 3557.9250 - mae: 30.3085 - val_loss: 4501.9082 - val_mae: 34.3456\n",
      "Epoch 75/200\n",
      "3504/3504 [==============================] - 9s 3ms/step - loss: 3303.4927 - mae: 29.3087 - val_loss: 3053.2954 - val_mae: 28.5244\n",
      "Epoch 76/200\n",
      "3504/3504 [==============================] - 8s 2ms/step - loss: 3552.6345 - mae: 29.7233 - val_loss: 3522.7715 - val_mae: 30.7064\n",
      "Epoch 77/200\n",
      "3504/3504 [==============================] - 9s 3ms/step - loss: 3831.4402 - mae: 30.8011 - val_loss: 4011.5664 - val_mae: 29.3816\n",
      "Epoch 78/200\n",
      "3504/3504 [==============================] - 8s 2ms/step - loss: 2996.6685 - mae: 27.9155 - val_loss: 4526.1768 - val_mae: 33.0817\n",
      "Epoch 79/200\n",
      "3504/3504 [==============================] - 9s 2ms/step - loss: 3382.5535 - mae: 29.3462 - val_loss: 3205.5166 - val_mae: 27.4725\n",
      "Epoch 80/200\n",
      "3504/3504 [==============================] - 10s 3ms/step - loss: 3415.9949 - mae: 29.4418 - val_loss: 4562.0220 - val_mae: 34.1938\n",
      "Epoch 81/200\n",
      "3504/3504 [==============================] - 8s 2ms/step - loss: 3623.7588 - mae: 30.0567 - val_loss: 3519.0337 - val_mae: 31.0300\n",
      "Epoch 82/200\n",
      "3504/3504 [==============================] - 9s 3ms/step - loss: 3181.8833 - mae: 28.3892 - val_loss: 3261.6521 - val_mae: 28.9503\n",
      "Epoch 83/200\n",
      "3504/3504 [==============================] - 10s 3ms/step - loss: 3641.4302 - mae: 29.9013 - val_loss: 2865.1299 - val_mae: 26.5017\n",
      "Epoch 84/200\n",
      "3504/3504 [==============================] - 8s 2ms/step - loss: 3333.3521 - mae: 28.6856 - val_loss: 2991.2874 - val_mae: 28.5005\n",
      "Epoch 85/200\n",
      "3504/3504 [==============================] - 9s 3ms/step - loss: 3369.8970 - mae: 29.0035 - val_loss: 3853.3259 - val_mae: 29.4755\n",
      "Epoch 86/200\n",
      "3504/3504 [==============================] - 10s 3ms/step - loss: 3327.3442 - mae: 28.6215 - val_loss: 4615.3032 - val_mae: 32.2658\n",
      "Epoch 87/200\n",
      "3504/3504 [==============================] - 8s 2ms/step - loss: 3431.8569 - mae: 29.4455 - val_loss: 6790.9805 - val_mae: 40.5473\n",
      "Epoch 88/200\n",
      "3504/3504 [==============================] - 9s 3ms/step - loss: 3328.0596 - mae: 28.6291 - val_loss: 2650.2163 - val_mae: 26.5869\n",
      "Epoch 89/200\n",
      "3504/3504 [==============================] - 10s 3ms/step - loss: 3284.9675 - mae: 28.9231 - val_loss: 3912.2073 - val_mae: 32.1597\n",
      "Epoch 90/200\n",
      "3504/3504 [==============================] - 8s 2ms/step - loss: 3607.0864 - mae: 29.1375 - val_loss: 5284.3042 - val_mae: 39.1758\n",
      "Epoch 91/200\n",
      "3504/3504 [==============================] - 9s 3ms/step - loss: 3155.7114 - mae: 28.1570 - val_loss: 3168.1772 - val_mae: 27.9855\n",
      "Epoch 92/200\n",
      "3504/3504 [==============================] - 8s 2ms/step - loss: 3358.0999 - mae: 28.7087 - val_loss: 2792.7402 - val_mae: 27.2982\n",
      "Epoch 93/200\n",
      "3504/3504 [==============================] - 8s 2ms/step - loss: 3264.6223 - mae: 28.3112 - val_loss: 3104.5925 - val_mae: 29.2437\n",
      "Epoch 94/200\n",
      "3504/3504 [==============================] - 9s 3ms/step - loss: 3436.6240 - mae: 28.5406 - val_loss: 3664.8899 - val_mae: 30.3178\n",
      "Epoch 95/200\n",
      "3504/3504 [==============================] - 8s 2ms/step - loss: 3046.7773 - mae: 27.4434 - val_loss: 3132.3533 - val_mae: 27.3699\n",
      "Epoch 96/200\n",
      "3504/3504 [==============================] - 9s 3ms/step - loss: 3262.9004 - mae: 28.0125 - val_loss: 4621.2241 - val_mae: 30.1368\n",
      "Epoch 97/200\n",
      "3504/3504 [==============================] - 9s 3ms/step - loss: 3067.7827 - mae: 26.9841 - val_loss: 2687.6331 - val_mae: 26.5214\n",
      "Epoch 98/200\n",
      "3504/3504 [==============================] - 8s 2ms/step - loss: 3094.3794 - mae: 27.9996 - val_loss: 2894.4087 - val_mae: 26.6975\n",
      "Epoch 99/200\n",
      "3504/3504 [==============================] - 9s 3ms/step - loss: 3407.7874 - mae: 28.4812 - val_loss: 4017.2000 - val_mae: 30.8343\n",
      "Epoch 100/200\n",
      "3504/3504 [==============================] - 10s 3ms/step - loss: 3324.2871 - mae: 28.4326 - val_loss: 4129.0532 - val_mae: 29.3547\n",
      "Epoch 101/200\n",
      "3504/3504 [==============================] - 8s 2ms/step - loss: 3118.0730 - mae: 27.6102 - val_loss: 2947.4932 - val_mae: 28.1230\n",
      "Epoch 102/200\n",
      "3504/3504 [==============================] - 9s 3ms/step - loss: 3220.4412 - mae: 27.6494 - val_loss: 4560.5903 - val_mae: 30.3456\n",
      "Epoch 103/200\n",
      "3504/3504 [==============================] - 9s 3ms/step - loss: 3324.7336 - mae: 28.3716 - val_loss: 3064.4280 - val_mae: 27.9072\n",
      "Epoch 104/200\n",
      "3504/3504 [==============================] - 8s 2ms/step - loss: 3260.1331 - mae: 28.1497 - val_loss: 4041.2703 - val_mae: 29.7389\n",
      "Epoch 105/200\n",
      "3504/3504 [==============================] - 9s 3ms/step - loss: 3218.5442 - mae: 28.1199 - val_loss: 3038.2241 - val_mae: 28.4557\n",
      "Epoch 106/200\n",
      "3504/3504 [==============================] - 8s 2ms/step - loss: 3044.3923 - mae: 26.9480 - val_loss: 3257.5645 - val_mae: 28.2961\n",
      "Epoch 107/200\n",
      "3504/3504 [==============================] - 9s 3ms/step - loss: 3158.0366 - mae: 27.9988 - val_loss: 3292.6660 - val_mae: 28.9635\n",
      "Epoch 108/200\n",
      "3504/3504 [==============================] - 9s 3ms/step - loss: 3067.8062 - mae: 27.0089 - val_loss: 3612.5833 - val_mae: 29.1183\n",
      "Epoch 109/200\n",
      "3504/3504 [==============================] - 8s 2ms/step - loss: 3324.9753 - mae: 27.7815 - val_loss: 3101.8728 - val_mae: 25.7652\n",
      "Epoch 110/200\n",
      "3504/3504 [==============================] - 9s 3ms/step - loss: 3496.0579 - mae: 27.9193 - val_loss: 2958.4243 - val_mae: 28.5444\n",
      "Epoch 111/200\n",
      "3504/3504 [==============================] - 10s 3ms/step - loss: 2970.4456 - mae: 26.7994 - val_loss: 3399.2026 - val_mae: 30.3646\n",
      "Epoch 112/200\n",
      "3504/3504 [==============================] - 8s 2ms/step - loss: 3031.0535 - mae: 27.4450 - val_loss: 3681.2832 - val_mae: 29.0684\n",
      "Epoch 113/200\n",
      "3504/3504 [==============================] - 9s 3ms/step - loss: 3244.7266 - mae: 27.8815 - val_loss: 2815.6895 - val_mae: 26.8027\n",
      "Epoch 114/200\n",
      "3504/3504 [==============================] - 9s 3ms/step - loss: 2915.4900 - mae: 26.7192 - val_loss: 2795.9329 - val_mae: 26.4855\n",
      "Epoch 115/200\n",
      "3504/3504 [==============================] - 8s 2ms/step - loss: 3214.4177 - mae: 27.9288 - val_loss: 3888.1143 - val_mae: 30.6699\n",
      "Epoch 116/200\n",
      "3504/3504 [==============================] - 9s 3ms/step - loss: 2945.7468 - mae: 26.6830 - val_loss: 3557.8618 - val_mae: 29.2956\n",
      "Epoch 117/200\n",
      "3504/3504 [==============================] - 8s 2ms/step - loss: 3033.1489 - mae: 26.9126 - val_loss: 3065.5620 - val_mae: 27.9445\n",
      "Epoch 118/200\n",
      "3504/3504 [==============================] - 9s 2ms/step - loss: 3019.3210 - mae: 26.6306 - val_loss: 2628.5979 - val_mae: 25.9182\n",
      "Epoch 119/200\n",
      "3504/3504 [==============================] - 9s 3ms/step - loss: 3197.3308 - mae: 27.5455 - val_loss: 3980.2646 - val_mae: 30.2262\n",
      "Epoch 120/200\n",
      "3504/3504 [==============================] - 8s 2ms/step - loss: 3025.5005 - mae: 26.7605 - val_loss: 3942.6052 - val_mae: 32.1384\n",
      "Epoch 121/200\n",
      "3504/3504 [==============================] - 9s 3ms/step - loss: 3045.9707 - mae: 26.9853 - val_loss: 3604.8208 - val_mae: 26.7652\n",
      "Epoch 122/200\n",
      "3504/3504 [==============================] - 10s 3ms/step - loss: 2996.8254 - mae: 26.8948 - val_loss: 5657.3506 - val_mae: 33.2511\n",
      "Epoch 123/200\n",
      "3504/3504 [==============================] - 8s 2ms/step - loss: 2960.2349 - mae: 26.7286 - val_loss: 3407.1750 - val_mae: 28.6665\n",
      "Epoch 124/200\n",
      "3504/3504 [==============================] - 9s 3ms/step - loss: 2837.1301 - mae: 26.1734 - val_loss: 3992.5012 - val_mae: 29.0320\n",
      "Epoch 125/200\n",
      "3504/3504 [==============================] - 9s 3ms/step - loss: 2968.7788 - mae: 26.3928 - val_loss: 3249.1726 - val_mae: 28.3012\n",
      "Epoch 126/200\n",
      "3504/3504 [==============================] - 8s 2ms/step - loss: 2895.0339 - mae: 26.3601 - val_loss: 2640.0310 - val_mae: 25.7551\n",
      "Epoch 127/200\n",
      "3504/3504 [==============================] - 9s 3ms/step - loss: 3049.0928 - mae: 26.7292 - val_loss: 2631.3728 - val_mae: 25.6287\n",
      "Epoch 128/200\n",
      "3504/3504 [==============================] - 9s 3ms/step - loss: 2891.5898 - mae: 25.9826 - val_loss: 3237.1626 - val_mae: 27.4979\n",
      "Epoch 129/200\n",
      "3504/3504 [==============================] - 8s 2ms/step - loss: 2864.7612 - mae: 26.1804 - val_loss: 2994.0310 - val_mae: 25.6208\n",
      "Epoch 130/200\n",
      "3504/3504 [==============================] - 9s 3ms/step - loss: 2745.1655 - mae: 25.5528 - val_loss: 3243.2410 - val_mae: 26.5891\n",
      "Epoch 131/200\n",
      "3504/3504 [==============================] - 9s 3ms/step - loss: 2660.2773 - mae: 25.4992 - val_loss: 2945.9009 - val_mae: 27.3529\n",
      "Epoch 132/200\n",
      "3504/3504 [==============================] - 8s 2ms/step - loss: 3291.3564 - mae: 26.8224 - val_loss: 3528.1453 - val_mae: 29.2346\n",
      "Epoch 133/200\n",
      "3504/3504 [==============================] - 9s 3ms/step - loss: 2615.6133 - mae: 25.2739 - val_loss: 2880.4597 - val_mae: 26.3212\n",
      "Epoch 134/200\n",
      "3504/3504 [==============================] - 9s 3ms/step - loss: 3372.4226 - mae: 27.7997 - val_loss: 4069.6367 - val_mae: 33.2446\n",
      "Epoch 135/200\n",
      "3504/3504 [==============================] - 8s 2ms/step - loss: 2743.8950 - mae: 25.4762 - val_loss: 2489.4507 - val_mae: 25.1770\n",
      "Epoch 136/200\n",
      "3504/3504 [==============================] - 9s 3ms/step - loss: 3239.5298 - mae: 27.1046 - val_loss: 2550.8057 - val_mae: 25.6799\n",
      "Epoch 137/200\n",
      "3504/3504 [==============================] - 9s 3ms/step - loss: 2758.2974 - mae: 25.9130 - val_loss: 3785.0637 - val_mae: 29.5193\n",
      "Epoch 138/200\n",
      "3504/3504 [==============================] - 8s 2ms/step - loss: 2844.1357 - mae: 25.8820 - val_loss: 2414.9631 - val_mae: 24.8627\n",
      "Epoch 139/200\n",
      "3504/3504 [==============================] - 9s 3ms/step - loss: 2878.9724 - mae: 26.2419 - val_loss: 2420.0198 - val_mae: 24.9330\n",
      "Epoch 140/200\n",
      "3504/3504 [==============================] - 8s 2ms/step - loss: 2795.8806 - mae: 25.7955 - val_loss: 7331.8809 - val_mae: 36.9060\n",
      "Epoch 141/200\n",
      "3504/3504 [==============================] - 9s 3ms/step - loss: 2645.7681 - mae: 25.2435 - val_loss: 2178.7729 - val_mae: 23.8726\n",
      "Epoch 142/200\n",
      "3504/3504 [==============================] - 10s 3ms/step - loss: 2794.3389 - mae: 25.6986 - val_loss: 2188.1091 - val_mae: 23.6514\n",
      "Epoch 143/200\n",
      "3504/3504 [==============================] - 8s 2ms/step - loss: 2910.2512 - mae: 25.9868 - val_loss: 2729.0334 - val_mae: 26.0418\n",
      "Epoch 144/200\n",
      "3504/3504 [==============================] - 9s 3ms/step - loss: 2932.4666 - mae: 25.9374 - val_loss: 3048.5432 - val_mae: 28.6526\n",
      "Epoch 145/200\n",
      "3504/3504 [==============================] - 9s 3ms/step - loss: 2922.3711 - mae: 26.0906 - val_loss: 2876.7874 - val_mae: 26.1547\n",
      "Epoch 146/200\n",
      "3504/3504 [==============================] - 8s 2ms/step - loss: 2766.5237 - mae: 25.2679 - val_loss: 4831.4297 - val_mae: 29.5640\n",
      "Epoch 147/200\n",
      "3504/3504 [==============================] - 9s 3ms/step - loss: 3064.8193 - mae: 26.2017 - val_loss: 4367.8633 - val_mae: 32.8824\n",
      "Epoch 148/200\n",
      "3504/3504 [==============================] - 9s 3ms/step - loss: 3052.9617 - mae: 26.5421 - val_loss: 3070.0994 - val_mae: 26.3114\n",
      "Epoch 149/200\n",
      "3504/3504 [==============================] - 8s 2ms/step - loss: 2645.0168 - mae: 25.1781 - val_loss: 3502.9880 - val_mae: 26.4239\n",
      "Epoch 150/200\n",
      "3504/3504 [==============================] - 9s 3ms/step - loss: 2839.2961 - mae: 26.1523 - val_loss: 2778.3628 - val_mae: 26.5476\n",
      "Epoch 151/200\n",
      "3504/3504 [==============================] - 9s 3ms/step - loss: 2674.7185 - mae: 25.5400 - val_loss: 2789.4556 - val_mae: 25.9975\n",
      "Epoch 152/200\n",
      "3504/3504 [==============================] - 8s 2ms/step - loss: 2474.1143 - mae: 24.8967 - val_loss: 2559.7942 - val_mae: 24.7500\n",
      "Epoch 153/200\n",
      "3504/3504 [==============================] - 9s 3ms/step - loss: 2756.7825 - mae: 25.4130 - val_loss: 2946.8447 - val_mae: 28.7565\n",
      "Epoch 154/200\n",
      "3504/3504 [==============================] - 8s 2ms/step - loss: 2778.9153 - mae: 25.6940 - val_loss: 3815.2410 - val_mae: 29.2270\n",
      "Epoch 155/200\n",
      "3504/3504 [==============================] - 9s 3ms/step - loss: 2712.7097 - mae: 25.2291 - val_loss: 2507.4697 - val_mae: 26.0376\n",
      "Epoch 156/200\n",
      "3504/3504 [==============================] - 9s 3ms/step - loss: 2639.1797 - mae: 25.3960 - val_loss: 3327.4685 - val_mae: 27.2273\n",
      "Epoch 157/200\n",
      "3504/3504 [==============================] - 8s 2ms/step - loss: 2886.6848 - mae: 25.7085 - val_loss: 2089.5369 - val_mae: 24.1699\n",
      "Epoch 158/200\n",
      "3504/3504 [==============================] - 9s 3ms/step - loss: 2910.2642 - mae: 25.7395 - val_loss: 2587.2219 - val_mae: 27.3480\n",
      "Epoch 159/200\n",
      "3504/3504 [==============================] - 8s 2ms/step - loss: 2543.6196 - mae: 25.4403 - val_loss: 2430.0693 - val_mae: 25.9467\n",
      "Epoch 160/200\n",
      "3504/3504 [==============================] - 9s 2ms/step - loss: 2775.3123 - mae: 25.5295 - val_loss: 2245.6060 - val_mae: 25.5438\n",
      "Epoch 161/200\n",
      "3504/3504 [==============================] - 9s 3ms/step - loss: 2592.7063 - mae: 24.5896 - val_loss: 2941.2751 - val_mae: 27.8055\n",
      "Epoch 162/200\n",
      "3504/3504 [==============================] - 8s 2ms/step - loss: 2626.0422 - mae: 24.9311 - val_loss: 2299.4353 - val_mae: 24.7012\n",
      "Epoch 163/200\n",
      "3504/3504 [==============================] - 9s 3ms/step - loss: 2595.8521 - mae: 24.9552 - val_loss: 4458.0474 - val_mae: 32.2628\n",
      "Epoch 164/200\n",
      "3504/3504 [==============================] - 8s 2ms/step - loss: 2578.0273 - mae: 24.6443 - val_loss: 2644.9272 - val_mae: 25.2019\n",
      "Epoch 165/200\n",
      "3504/3504 [==============================] - 9s 2ms/step - loss: 2636.2529 - mae: 24.8999 - val_loss: 3219.1541 - val_mae: 28.1798\n",
      "Epoch 166/200\n",
      "3504/3504 [==============================] - 9s 3ms/step - loss: 2350.5249 - mae: 24.3746 - val_loss: 2401.4207 - val_mae: 24.7757\n",
      "Epoch 167/200\n",
      "3504/3504 [==============================] - 8s 2ms/step - loss: 2704.3655 - mae: 24.8910 - val_loss: 2366.5457 - val_mae: 25.5561\n",
      "Epoch 168/200\n",
      "3504/3504 [==============================] - 9s 3ms/step - loss: 2902.6726 - mae: 25.5328 - val_loss: 3530.8242 - val_mae: 27.3696\n",
      "Epoch 169/200\n",
      "3504/3504 [==============================] - 9s 3ms/step - loss: 2459.5322 - mae: 24.2868 - val_loss: 3542.4146 - val_mae: 27.1619\n",
      "Epoch 170/200\n",
      "3504/3504 [==============================] - 8s 2ms/step - loss: 2866.7869 - mae: 25.7272 - val_loss: 2605.1499 - val_mae: 25.4095\n",
      "Epoch 171/200\n",
      "3504/3504 [==============================] - 9s 3ms/step - loss: 2478.3879 - mae: 23.9527 - val_loss: 2709.5322 - val_mae: 25.4174\n",
      "Epoch 172/200\n",
      "3504/3504 [==============================] - 8s 2ms/step - loss: 2603.0693 - mae: 24.8434 - val_loss: 2680.7942 - val_mae: 25.9743\n",
      "Epoch 173/200\n",
      "3504/3504 [==============================] - 9s 2ms/step - loss: 2538.4019 - mae: 24.7416 - val_loss: 2442.3669 - val_mae: 24.1828\n",
      "Epoch 174/200\n",
      "3504/3504 [==============================] - 9s 3ms/step - loss: 2595.2063 - mae: 24.6827 - val_loss: 2358.7393 - val_mae: 25.3646\n",
      "Epoch 175/200\n",
      "3504/3504 [==============================] - 8s 2ms/step - loss: 2674.3921 - mae: 24.9451 - val_loss: 2579.4766 - val_mae: 24.5643\n",
      "Epoch 176/200\n",
      "3504/3504 [==============================] - 9s 3ms/step - loss: 2593.7466 - mae: 24.4771 - val_loss: 4378.7173 - val_mae: 29.7993\n",
      "Epoch 177/200\n",
      "3504/3504 [==============================] - 9s 3ms/step - loss: 2465.2849 - mae: 24.3958 - val_loss: 2816.2058 - val_mae: 25.6988\n",
      "Epoch 178/200\n",
      "3504/3504 [==============================] - 8s 2ms/step - loss: 2736.6609 - mae: 25.6485 - val_loss: 3850.4883 - val_mae: 28.4143\n",
      "Epoch 179/200\n",
      "3504/3504 [==============================] - 9s 3ms/step - loss: 2454.7944 - mae: 24.1918 - val_loss: 2522.6943 - val_mae: 24.7585\n",
      "Epoch 180/200\n",
      "3504/3504 [==============================] - 8s 2ms/step - loss: 2483.1855 - mae: 24.2504 - val_loss: 2476.4202 - val_mae: 25.2748\n",
      "Epoch 181/200\n",
      "3504/3504 [==============================] - 9s 3ms/step - loss: 2762.8679 - mae: 25.1262 - val_loss: 2492.3516 - val_mae: 24.2484\n",
      "Epoch 182/200\n",
      "3504/3504 [==============================] - 9s 3ms/step - loss: 2349.0686 - mae: 23.9779 - val_loss: 2598.8142 - val_mae: 24.3801\n",
      "Epoch 183/200\n",
      "3504/3504 [==============================] - 8s 2ms/step - loss: 2438.0847 - mae: 23.9243 - val_loss: 2581.8682 - val_mae: 24.5447\n",
      "Epoch 184/200\n",
      "3504/3504 [==============================] - 9s 3ms/step - loss: 2665.7363 - mae: 25.0008 - val_loss: 3788.2456 - val_mae: 27.9648\n",
      "Epoch 185/200\n",
      "3504/3504 [==============================] - 8s 2ms/step - loss: 2736.0598 - mae: 25.2837 - val_loss: 2956.1802 - val_mae: 28.0763\n",
      "Epoch 186/200\n",
      "3504/3504 [==============================] - 9s 3ms/step - loss: 2568.9429 - mae: 24.4724 - val_loss: 2455.2229 - val_mae: 25.1335\n",
      "Epoch 187/200\n",
      "3504/3504 [==============================] - 10s 3ms/step - loss: 3033.6858 - mae: 25.5052 - val_loss: 2868.3730 - val_mae: 25.5907\n",
      "Epoch 188/200\n",
      "3504/3504 [==============================] - 8s 2ms/step - loss: 2792.0061 - mae: 25.3535 - val_loss: 2454.8362 - val_mae: 24.8551\n",
      "Epoch 189/200\n",
      "3504/3504 [==============================] - 9s 3ms/step - loss: 2444.1711 - mae: 24.2730 - val_loss: 2381.4692 - val_mae: 23.0375\n",
      "Epoch 190/200\n",
      "3504/3504 [==============================] - 9s 3ms/step - loss: 2438.7705 - mae: 24.0758 - val_loss: 2438.1228 - val_mae: 24.6474\n",
      "Epoch 191/200\n",
      "3504/3504 [==============================] - 8s 2ms/step - loss: 2371.8958 - mae: 23.8379 - val_loss: 2635.8086 - val_mae: 23.7416\n",
      "Epoch 192/200\n",
      "3504/3504 [==============================] - 9s 3ms/step - loss: 2533.1418 - mae: 24.5848 - val_loss: 5238.3687 - val_mae: 29.6521\n",
      "Epoch 193/200\n",
      "3504/3504 [==============================] - 9s 3ms/step - loss: 2617.0242 - mae: 24.8197 - val_loss: 2684.0137 - val_mae: 25.8911\n",
      "Epoch 194/200\n",
      "3504/3504 [==============================] - 8s 2ms/step - loss: 2305.7576 - mae: 23.4382 - val_loss: 3070.5293 - val_mae: 26.6884\n",
      "Epoch 195/200\n",
      "3504/3504 [==============================] - 9s 3ms/step - loss: 2482.5808 - mae: 24.3374 - val_loss: 3730.0698 - val_mae: 29.1509\n",
      "Epoch 196/200\n",
      "3504/3504 [==============================] - 8s 2ms/step - loss: 2686.9744 - mae: 24.5184 - val_loss: 2741.7839 - val_mae: 26.2489\n",
      "Epoch 197/200\n",
      "3504/3504 [==============================] - 9s 2ms/step - loss: 2386.1287 - mae: 23.9601 - val_loss: 4572.0933 - val_mae: 31.9436\n",
      "Epoch 198/200\n",
      "3504/3504 [==============================] - 9s 3ms/step - loss: 2480.6763 - mae: 24.1811 - val_loss: 3436.3604 - val_mae: 29.1048\n",
      "Epoch 199/200\n",
      "3504/3504 [==============================] - 8s 2ms/step - loss: 2350.1599 - mae: 23.9152 - val_loss: 5485.2354 - val_mae: 32.9967\n",
      "Epoch 200/200\n",
      "3504/3504 [==============================] - 9s 3ms/step - loss: 2363.8545 - mae: 23.9286 - val_loss: 4186.4316 - val_mae: 28.5070\n",
      "55/55 [==============================] - 0s 2ms/step - loss: 4186.4312 - mae: 28.5070\n",
      "Mean Squared Error: 4186.43115234375, Mean Absolute Error: 28.506967544555664\n"
     ]
    }
   ]
  },
  {
   "cell_type": "code",
   "source": [
    "def plot_loss(history):\n",
    "  plt.plot(history.history['loss'], label='loss')\n",
    "  plt.plot(history.history['val_loss'], label='val_loss')\n",
    "  plt.xlabel('Epoch')\n",
    "  plt.legend(['Loss', 'Val_loss'], loc='upper right')\n",
    "  plt.grid(True)\n",
    "\n",
    "def plot_mae(history):\n",
    "  plt.plot(history.history['mae'], label='mae')\n",
    "  plt.plot(history.history['val_mae'], label='val_mae')\n",
    "  #plt.xlabel('loss')\n",
    "  plt.xlabel('Epoch')\n",
    "  plt.legend(['mae', 'Val_mae'], loc='upper right')\n",
    "  plt.grid(True)"
   ],
   "metadata": {
    "id": "KsDJYqnC9zB4",
    "pycharm": {
     "name": "#%%\n"
    }
   },
   "execution_count": null,
   "outputs": []
  },
  {
   "cell_type": "code",
   "source": [
    "plot_mae(history)"
   ],
   "metadata": {
    "colab": {
     "base_uri": "https://localhost:8080/",
     "height": 449
    },
    "id": "mt8UeFz9F9Wm",
    "executionInfo": {
     "status": "ok",
     "timestamp": 1706110248987,
     "user_tz": -60,
     "elapsed": 1,
     "user": {
      "displayName": "Błażej B",
      "userId": "09393835138747022407"
     }
    },
    "outputId": "e373b544-27d2-45c8-f340-104b80cc011c",
    "pycharm": {
     "name": "#%%\n"
    }
   },
   "execution_count": null,
   "outputs": [
    {
     "data": {
      "image/png": "[encoded data removed]",
      "text/plain": [
       "<Figure size 640x480 with 1 Axes>"
      ]
     },
     "metadata": {},
     "output_type": "display_data"
    }
   ]
  },
  {
   "cell_type": "code",
   "source": [
    "plot_loss(history)"
   ],
   "metadata": {
    "colab": {
     "base_uri": "https://localhost:8080/",
     "height": 449
    },
    "id": "4TP1fJLcGJu9",
    "executionInfo": {
     "status": "ok",
     "timestamp": 1706110268012,
     "user_tz": -60,
     "elapsed": 2164,
     "user": {
      "displayName": "Błażej B",
      "userId": "09393835138747022407"
     }
    },
    "outputId": "e9d69bb9-9be0-4ebe-9079-e4c99c278b8d",
    "pycharm": {
     "name": "#%%\n"
    }
   },
   "execution_count": null,
   "outputs": [
    {
     "output_type": "display_data",
     "data": {
      "text/plain": [
       "<Figure size 640x480 with 1 Axes>"
      ],
      "image/png": "[encoded data removed]"
     },
     "metadata": {}
    }
   ]
  },
  {
   "cell_type": "code",
   "source": [
    "heating_model.save(\"Heating_model.keras\")"
   ],
   "metadata": {
    "id": "bPgH1-swKOsL",
    "executionInfo": {
     "status": "ok",
     "timestamp": 1706118572555,
     "user_tz": -60,
     "elapsed": 482,
     "user": {
      "displayName": "Błażej B",
      "userId": "09393835138747022407"
     }
    },
    "pycharm": {
     "name": "#%%\n"
    }
   },
   "execution_count": 70,
   "outputs": []
  },
  {
   "cell_type": "markdown",
   "source": [
    "# Eksperymenty"
   ],
   "metadata": {
    "id": "N0cAi5UO0RB5",
    "pycharm": {
     "name": "#%% md\n"
    }
   }
  },
  {
   "cell_type": "code",
   "source": [
    "heating_model.save('Heating_model.h5')"
   ],
   "metadata": {
    "colab": {
     "base_uri": "https://localhost:8080/"
    },
    "id": "xlG-s4TljMJE",
    "executionInfo": {
     "status": "ok",
     "timestamp": 1706118170695,
     "user_tz": -60,
     "elapsed": 402,
     "user": {
      "displayName": "Błażej B",
      "userId": "09393835138747022407"
     }
    },
    "outputId": "d373534f-a233-400b-ddc0-b17a2eac127d",
    "pycharm": {
     "name": "#%%\n"
    }
   },
   "execution_count": 69,
   "outputs": [
    {
     "output_type": "stream",
     "name": "stderr",
     "text": [
      "/usr/local/lib/python3.10/dist-packages/keras/src/engine/training.py:3103: UserWarning: You are saving your model as an HDF5 file via `model.save()`. This file format is considered legacy. We recommend using instead the native Keras format, e.g. `model.save('my_model.keras')`.\n",
      "  saving_api.save_model(\n"
     ]
    }
   ]
  },
  {
   "cell_type": "code",
   "source": [
    "from tensorflow.keras.models import load_model\n",
    "\n",
    "loaded_model = load_model('drive/MyDrive/Praca_inzynierska/Models/Heating_model.h5')\n",
    "loaded_model.summary()"
   ],
   "metadata": {
    "colab": {
     "base_uri": "https://localhost:8080/"
    },
    "id": "R7h2ELV-tc2g",
    "executionInfo": {
     "status": "ok",
     "timestamp": 1706120792303,
     "user_tz": -60,
     "elapsed": 529,
     "user": {
      "displayName": "Błażej B",
      "userId": "09393835138747022407"
     }
    },
    "outputId": "a2abaf59-bb03-4924-ac48-08ebf7db6a07",
    "pycharm": {
     "name": "#%%\n"
    }
   },
   "execution_count": 77,
   "outputs": [
    {
     "output_type": "stream",
     "name": "stdout",
     "text": [
      "Model: \"sequential_1\"\n",
      "_________________________________________________________________\n",
      " Layer (type)                Output Shape              Param #   \n",
      "=================================================================\n",
      " dense_5 (Dense)             (None, 64)                320       \n",
      "                                                                 \n",
      " dense_6 (Dense)             (None, 96)                6240      \n",
      "                                                                 \n",
      " dense_7 (Dense)             (None, 16)                1552      \n",
      "                                                                 \n",
      " dense_8 (Dense)             (None, 1)                 17        \n",
      "                                                                 \n",
      "=================================================================\n",
      "Total params: 8129 (31.75 KB)\n",
      "Trainable params: 8129 (31.75 KB)\n",
      "Non-trainable params: 0 (0.00 Byte)\n",
      "_________________________________________________________________\n"
     ]
    }
   ]
  },
  {
   "cell_type": "code",
   "source": [],
   "metadata": {
    "colab": {
     "base_uri": "https://localhost:8080/"
    },
    "id": "qCo4gaccxSor",
    "executionInfo": {
     "status": "ok",
     "timestamp": 1706121582384,
     "user_tz": -60,
     "elapsed": 7454,
     "user": {
      "displayName": "Błażej B",
      "userId": "09393835138747022407"
     }
    },
    "outputId": "b75abf17-f029-4d97-bf5d-27a705a64a12",
    "pycharm": {
     "name": "#%%\n"
    }
   },
   "execution_count": 78,
   "outputs": [
    {
     "output_type": "stream",
     "name": "stdout",
     "text": [
      "Name: tensorflow\n",
      "Version: 2.15.0\n",
      "Summary: TensorFlow is an open source machine learning framework for everyone.\n",
      "Home-page: https://www.tensorflow.org/\n",
      "Author: Google Inc.\n",
      "Author-email: packages@tensorflow.org\n",
      "License: Apache 2.0\n",
      "Location: /usr/local/lib/python3.10/dist-packages\n",
      "Requires: absl-py, astunparse, flatbuffers, gast, google-pasta, grpcio, h5py, keras, libclang, ml-dtypes, numpy, opt-einsum, packaging, protobuf, setuptools, six, tensorboard, tensorflow-estimator, tensorflow-io-gcs-filesystem, termcolor, typing-extensions, wrapt\n",
      "Required-by: dopamine-rl\n"
     ]
    }
   ]
  },
  {
   "cell_type": "code",
   "source": [
    "tf.saved_model.save(heating_model, 'heating_model2')"
   ],
   "metadata": {
    "id": "8-z5_jRB0VN9",
    "executionInfo": {
     "status": "ok",
     "timestamp": 1706122402404,
     "user_tz": -60,
     "elapsed": 2447,
     "user": {
      "displayName": "Błażej B",
      "userId": "09393835138747022407"
     }
    },
    "pycharm": {
     "name": "#%%\n"
    }
   },
   "execution_count": 79,
   "outputs": []
  },
  {
   "cell_type": "code",
   "source": [
    "import pickle\n",
    "model_pkl_file = \"heating_model.pkl\"\n",
    "\n",
    "with open(model_pkl_file, 'wb') as file:\n",
    "    pickle.dump(heating_model, file)\n"
   ],
   "metadata": {
    "id": "ctqbkR9N2VDl",
    "executionInfo": {
     "status": "ok",
     "timestamp": 1706122952808,
     "user_tz": -60,
     "elapsed": 452,
     "user": {
      "displayName": "Błażej B",
      "userId": "09393835138747022407"
     }
    },
    "pycharm": {
     "name": "#%%\n"
    }
   },
   "execution_count": 81,
   "outputs": []
  }
 ]
}