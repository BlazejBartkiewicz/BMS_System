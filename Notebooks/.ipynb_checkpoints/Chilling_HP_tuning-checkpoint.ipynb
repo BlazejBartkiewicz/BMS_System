{
 "nbformat": 4,
 "nbformat_minor": 0,
 "metadata": {
  "colab": {
   "provenance": [],
   "authorship_tag": "ABX9TyN3Q1w2qCUquD1i0xCM0eBF"
  },
  "kernelspec": {
   "name": "python3",
   "display_name": "Python 3"
  },
  "language_info": {
   "name": "python"
  }
 },
 "cells": [
  {
   "cell_type": "code",
   "execution_count": null,
   "metadata": {
    "colab": {
     "base_uri": "https://localhost:8080/"
    },
    "id": "YwLcsNEFNNSn",
    "executionInfo": {
     "status": "ok",
     "timestamp": 1706112177165,
     "user_tz": -60,
     "elapsed": 34275,
     "user": {
      "displayName": "Błażej B",
      "userId": "09393835138747022407"
     }
    },
    "outputId": "8d5a1c58-7831-4517-814c-e5ffd2b3b246",
    "pycharm": {
     "name": "#%%\n",
     "is_executing": true
    }
   },
   "outputs": [],
   "source": [
    "import pandas as pd\n",
    "from sklearn.model_selection import train_test_split\n",
    "import matplotlib.pyplot as plt\n",
    "import numpy as np\n",
    "\n",
    "#Pulling data\n",
    "\n",
    "data_frame = pd.read_csv('Data/Dane_rounded.csv', encoding='unicode_escape', sep=\",\")\n",
    "data_frame.dtypes"
   ]
  },
  {
   "cell_type": "code",
   "source": [
    "X = data_frame.drop(['HourId',\n",
    "                     'Day',\n",
    "                     'Chiller Output (kW)',\n",
    "                     'Heating Load (kW)',\n",
    "                     'Total Building Electric [kW]',\n",
    "                     'Precool Coil Load (kW)',\n",
    "                     'Preheat Coil Load (kW)',\n",
    "                     'Terminal Cooling Coil Load (kW)',\n",
    "                     'Terminal Heating Coil Load (kW)',\n",
    "                     'Ventilation Fan (kW)',\n",
    "                     'Exhaust Fan (kW)',\n",
    "                     'Terminal Fan (kW)',\n",
    "                     'Vent. Reclaim Device (kW)',\n",
    "                     'Lighting (kW)',\n",
    "                     'Electric Equipment (kW)'], axis=1)\n",
    "X"
   ],
   "metadata": {
    "colab": {
     "base_uri": "https://localhost:8080/",
     "height": 424
    },
    "id": "RwFoDPp3Ne-U",
    "executionInfo": {
     "status": "ok",
     "timestamp": 1706112213468,
     "user_tz": -60,
     "elapsed": 261,
     "user": {
      "displayName": "Błażej B",
      "userId": "09393835138747022407"
     }
    },
    "outputId": "98b22ca0-d964-42a9-cbf7-9ba8df019e63",
    "pycharm": {
     "name": "#%%\n"
    }
   },
   "execution_count": 2,
   "outputs": [
    {
     "output_type": "execute_result",
     "data": {
      "text/plain": [
       "      Month  Week day  Hour  Dry-Bulb Temp (Â°C)  Chiller Input (kW)\n",
       "0         1         7     0                 -4.3                 0.0\n",
       "1         1         7     1                 -4.1                 0.0\n",
       "2         1         7     2                 -4.0                 0.0\n",
       "3         1         7     3                 -3.8                 0.0\n",
       "4         1         7     4                 -3.5                 0.0\n",
       "...     ...       ...   ...                  ...                 ...\n",
       "8755     12         7    19                  0.2                 0.0\n",
       "8756     12         7    20                  0.3                 0.0\n",
       "8757     12         7    21                  0.3                 0.0\n",
       "8758     12         7    22                  0.3                 0.0\n",
       "8759     12         7    23                  0.2                 0.0\n",
       "\n",
       "[8760 rows x 5 columns]"
      ],
      "text/html": [
       "\n",
       "  <div id=\"df-9b02b892-11a1-4c14-bbbd-5ba02e1f171d\" class=\"colab-df-container\">\n",
       "    <div>\n",
       "<style scoped>\n",
       "    .dataframe tbody tr th:only-of-type {\n",
       "        vertical-align: middle;\n",
       "    }\n",
       "\n",
       "    .dataframe tbody tr th {\n",
       "        vertical-align: top;\n",
       "    }\n",
       "\n",
       "    .dataframe thead th {\n",
       "        text-align: right;\n",
       "    }\n",
       "</style>\n",
       "<table border=\"1\" class=\"dataframe\">\n",
       "  <thead>\n",
       "    <tr style=\"text-align: right;\">\n",
       "      <th></th>\n",
       "      <th>Month</th>\n",
       "      <th>Week day</th>\n",
       "      <th>Hour</th>\n",
       "      <th>Dry-Bulb Temp (Â°C)</th>\n",
       "      <th>Chiller Input (kW)</th>\n",
       "    </tr>\n",
       "  </thead>\n",
       "  <tbody>\n",
       "    <tr>\n",
       "      <th>0</th>\n",
       "      <td>1</td>\n",
       "      <td>7</td>\n",
       "      <td>0</td>\n",
       "      <td>-4.3</td>\n",
       "      <td>0.0</td>\n",
       "    </tr>\n",
       "    <tr>\n",
       "      <th>1</th>\n",
       "      <td>1</td>\n",
       "      <td>7</td>\n",
       "      <td>1</td>\n",
       "      <td>-4.1</td>\n",
       "      <td>0.0</td>\n",
       "    </tr>\n",
       "    <tr>\n",
       "      <th>2</th>\n",
       "      <td>1</td>\n",
       "      <td>7</td>\n",
       "      <td>2</td>\n",
       "      <td>-4.0</td>\n",
       "      <td>0.0</td>\n",
       "    </tr>\n",
       "    <tr>\n",
       "      <th>3</th>\n",
       "      <td>1</td>\n",
       "      <td>7</td>\n",
       "      <td>3</td>\n",
       "      <td>-3.8</td>\n",
       "      <td>0.0</td>\n",
       "    </tr>\n",
       "    <tr>\n",
       "      <th>4</th>\n",
       "      <td>1</td>\n",
       "      <td>7</td>\n",
       "      <td>4</td>\n",
       "      <td>-3.5</td>\n",
       "      <td>0.0</td>\n",
       "    </tr>\n",
       "    <tr>\n",
       "      <th>...</th>\n",
       "      <td>...</td>\n",
       "      <td>...</td>\n",
       "      <td>...</td>\n",
       "      <td>...</td>\n",
       "      <td>...</td>\n",
       "    </tr>\n",
       "    <tr>\n",
       "      <th>8755</th>\n",
       "      <td>12</td>\n",
       "      <td>7</td>\n",
       "      <td>19</td>\n",
       "      <td>0.2</td>\n",
       "      <td>0.0</td>\n",
       "    </tr>\n",
       "    <tr>\n",
       "      <th>8756</th>\n",
       "      <td>12</td>\n",
       "      <td>7</td>\n",
       "      <td>20</td>\n",
       "      <td>0.3</td>\n",
       "      <td>0.0</td>\n",
       "    </tr>\n",
       "    <tr>\n",
       "      <th>8757</th>\n",
       "      <td>12</td>\n",
       "      <td>7</td>\n",
       "      <td>21</td>\n",
       "      <td>0.3</td>\n",
       "      <td>0.0</td>\n",
       "    </tr>\n",
       "    <tr>\n",
       "      <th>8758</th>\n",
       "      <td>12</td>\n",
       "      <td>7</td>\n",
       "      <td>22</td>\n",
       "      <td>0.3</td>\n",
       "      <td>0.0</td>\n",
       "    </tr>\n",
       "    <tr>\n",
       "      <th>8759</th>\n",
       "      <td>12</td>\n",
       "      <td>7</td>\n",
       "      <td>23</td>\n",
       "      <td>0.2</td>\n",
       "      <td>0.0</td>\n",
       "    </tr>\n",
       "  </tbody>\n",
       "</table>\n",
       "<p>8760 rows × 5 columns</p>\n",
       "</div>\n",
       "    <div class=\"colab-df-buttons\">\n",
       "\n",
       "  <div class=\"colab-df-container\">\n",
       "    <button class=\"colab-df-convert\" onclick=\"convertToInteractive('df-9b02b892-11a1-4c14-bbbd-5ba02e1f171d')\"\n",
       "            title=\"Convert this dataframe to an interactive table.\"\n",
       "            style=\"display:none;\">\n",
       "\n",
       "  <svg xmlns=\"http://www.w3.org/2000/svg\" height=\"24px\" viewBox=\"0 -960 960 960\">\n",
       "    <path d=\"M120-120v-720h720v720H120Zm60-500h600v-160H180v160Zm220 220h160v-160H400v160Zm0 220h160v-160H400v160ZM180-400h160v-160H180v160Zm440 0h160v-160H620v160ZM180-180h160v-160H180v160Zm440 0h160v-160H620v160Z\"/>\n",
       "  </svg>\n",
       "    </button>\n",
       "\n",
       "  <style>\n",
       "    .colab-df-container {\n",
       "      display:flex;\n",
       "      gap: 12px;\n",
       "    }\n",
       "\n",
       "    .colab-df-convert {\n",
       "      background-color: #E8F0FE;\n",
       "      border: none;\n",
       "      border-radius: 50%;\n",
       "      cursor: pointer;\n",
       "      display: none;\n",
       "      fill: #1967D2;\n",
       "      height: 32px;\n",
       "      padding: 0 0 0 0;\n",
       "      width: 32px;\n",
       "    }\n",
       "\n",
       "    .colab-df-convert:hover {\n",
       "      background-color: #E2EBFA;\n",
       "      box-shadow: 0px 1px 2px rgba(60, 64, 67, 0.3), 0px 1px 3px 1px rgba(60, 64, 67, 0.15);\n",
       "      fill: #174EA6;\n",
       "    }\n",
       "\n",
       "    .colab-df-buttons div {\n",
       "      margin-bottom: 4px;\n",
       "    }\n",
       "\n",
       "    [theme=dark] .colab-df-convert {\n",
       "      background-color: #3B4455;\n",
       "      fill: #D2E3FC;\n",
       "    }\n",
       "\n",
       "    [theme=dark] .colab-df-convert:hover {\n",
       "      background-color: #434B5C;\n",
       "      box-shadow: 0px 1px 3px 1px rgba(0, 0, 0, 0.15);\n",
       "      filter: drop-shadow(0px 1px 2px rgba(0, 0, 0, 0.3));\n",
       "      fill: #FFFFFF;\n",
       "    }\n",
       "  </style>\n",
       "\n",
       "    <script>\n",
       "      const buttonEl =\n",
       "        document.querySelector('#df-9b02b892-11a1-4c14-bbbd-5ba02e1f171d button.colab-df-convert');\n",
       "      buttonEl.style.display =\n",
       "        google.colab.kernel.accessAllowed ? 'block' : 'none';\n",
       "\n",
       "      async function convertToInteractive(key) {\n",
       "        const element = document.querySelector('#df-9b02b892-11a1-4c14-bbbd-5ba02e1f171d');\n",
       "        const dataTable =\n",
       "          await google.colab.kernel.invokeFunction('convertToInteractive',\n",
       "                                                    [key], {});\n",
       "        if (!dataTable) return;\n",
       "\n",
       "        const docLinkHtml = 'Like what you see? Visit the ' +\n",
       "          '<a target=\"_blank\" href=https://colab.research.google.com/notebooks/data_table.ipynb>data table notebook</a>'\n",
       "          + ' to learn more about interactive tables.';\n",
       "        element.innerHTML = '';\n",
       "        dataTable['output_type'] = 'display_data';\n",
       "        await google.colab.output.renderOutput(dataTable, element);\n",
       "        const docLink = document.createElement('div');\n",
       "        docLink.innerHTML = docLinkHtml;\n",
       "        element.appendChild(docLink);\n",
       "      }\n",
       "    </script>\n",
       "  </div>\n",
       "\n",
       "\n",
       "<div id=\"df-4c5d6c80-4612-4bde-a4b1-9be85d1e1a63\">\n",
       "  <button class=\"colab-df-quickchart\" onclick=\"quickchart('df-4c5d6c80-4612-4bde-a4b1-9be85d1e1a63')\"\n",
       "            title=\"Suggest charts\"\n",
       "            style=\"display:none;\">\n",
       "\n",
       "<svg xmlns=\"http://www.w3.org/2000/svg\" height=\"24px\"viewBox=\"0 0 24 24\"\n",
       "     width=\"24px\">\n",
       "    <g>\n",
       "        <path d=\"M19 3H5c-1.1 0-2 .9-2 2v14c0 1.1.9 2 2 2h14c1.1 0 2-.9 2-2V5c0-1.1-.9-2-2-2zM9 17H7v-7h2v7zm4 0h-2V7h2v10zm4 0h-2v-4h2v4z\"/>\n",
       "    </g>\n",
       "</svg>\n",
       "  </button>\n",
       "\n",
       "<style>\n",
       "  .colab-df-quickchart {\n",
       "      --bg-color: #E8F0FE;\n",
       "      --fill-color: #1967D2;\n",
       "      --hover-bg-color: #E2EBFA;\n",
       "      --hover-fill-color: #174EA6;\n",
       "      --disabled-fill-color: #AAA;\n",
       "      --disabled-bg-color: #DDD;\n",
       "  }\n",
       "\n",
       "  [theme=dark] .colab-df-quickchart {\n",
       "      --bg-color: #3B4455;\n",
       "      --fill-color: #D2E3FC;\n",
       "      --hover-bg-color: #434B5C;\n",
       "      --hover-fill-color: #FFFFFF;\n",
       "      --disabled-bg-color: #3B4455;\n",
       "      --disabled-fill-color: #666;\n",
       "  }\n",
       "\n",
       "  .colab-df-quickchart {\n",
       "    background-color: var(--bg-color);\n",
       "    border: none;\n",
       "    border-radius: 50%;\n",
       "    cursor: pointer;\n",
       "    display: none;\n",
       "    fill: var(--fill-color);\n",
       "    height: 32px;\n",
       "    padding: 0;\n",
       "    width: 32px;\n",
       "  }\n",
       "\n",
       "  .colab-df-quickchart:hover {\n",
       "    background-color: var(--hover-bg-color);\n",
       "    box-shadow: 0 1px 2px rgba(60, 64, 67, 0.3), 0 1px 3px 1px rgba(60, 64, 67, 0.15);\n",
       "    fill: var(--button-hover-fill-color);\n",
       "  }\n",
       "\n",
       "  .colab-df-quickchart-complete:disabled,\n",
       "  .colab-df-quickchart-complete:disabled:hover {\n",
       "    background-color: var(--disabled-bg-color);\n",
       "    fill: var(--disabled-fill-color);\n",
       "    box-shadow: none;\n",
       "  }\n",
       "\n",
       "  .colab-df-spinner {\n",
       "    border: 2px solid var(--fill-color);\n",
       "    border-color: transparent;\n",
       "    border-bottom-color: var(--fill-color);\n",
       "    animation:\n",
       "      spin 1s steps(1) infinite;\n",
       "  }\n",
       "\n",
       "  @keyframes spin {\n",
       "    0% {\n",
       "      border-color: transparent;\n",
       "      border-bottom-color: var(--fill-color);\n",
       "      border-left-color: var(--fill-color);\n",
       "    }\n",
       "    20% {\n",
       "      border-color: transparent;\n",
       "      border-left-color: var(--fill-color);\n",
       "      border-top-color: var(--fill-color);\n",
       "    }\n",
       "    30% {\n",
       "      border-color: transparent;\n",
       "      border-left-color: var(--fill-color);\n",
       "      border-top-color: var(--fill-color);\n",
       "      border-right-color: var(--fill-color);\n",
       "    }\n",
       "    40% {\n",
       "      border-color: transparent;\n",
       "      border-right-color: var(--fill-color);\n",
       "      border-top-color: var(--fill-color);\n",
       "    }\n",
       "    60% {\n",
       "      border-color: transparent;\n",
       "      border-right-color: var(--fill-color);\n",
       "    }\n",
       "    80% {\n",
       "      border-color: transparent;\n",
       "      border-right-color: var(--fill-color);\n",
       "      border-bottom-color: var(--fill-color);\n",
       "    }\n",
       "    90% {\n",
       "      border-color: transparent;\n",
       "      border-bottom-color: var(--fill-color);\n",
       "    }\n",
       "  }\n",
       "</style>\n",
       "\n",
       "  <script>\n",
       "    async function quickchart(key) {\n",
       "      const quickchartButtonEl =\n",
       "        document.querySelector('#' + key + ' button');\n",
       "      quickchartButtonEl.disabled = true;  // To prevent multiple clicks.\n",
       "      quickchartButtonEl.classList.add('colab-df-spinner');\n",
       "      try {\n",
       "        const charts = await google.colab.kernel.invokeFunction(\n",
       "            'suggestCharts', [key], {});\n",
       "      } catch (error) {\n",
       "        console.error('Error during call to suggestCharts:', error);\n",
       "      }\n",
       "      quickchartButtonEl.classList.remove('colab-df-spinner');\n",
       "      quickchartButtonEl.classList.add('colab-df-quickchart-complete');\n",
       "    }\n",
       "    (() => {\n",
       "      let quickchartButtonEl =\n",
       "        document.querySelector('#df-4c5d6c80-4612-4bde-a4b1-9be85d1e1a63 button');\n",
       "      quickchartButtonEl.style.display =\n",
       "        google.colab.kernel.accessAllowed ? 'block' : 'none';\n",
       "    })();\n",
       "  </script>\n",
       "</div>\n",
       "    </div>\n",
       "  </div>\n"
      ]
     },
     "metadata": {},
     "execution_count": 2
    }
   ]
  },
  {
   "cell_type": "code",
   "source": [
    "X = data_frame[['Month', 'Week day', 'Hour', 'Dry-Bulb Temp (Â°C)']].values\n",
    "y = data_frame['Chiller Input (kW)'].values\n",
    "X_train, X_test, y_train, y_test = train_test_split(X, y, test_size=0.2, random_state=42)"
   ],
   "metadata": {
    "id": "Mr4EaDZaNqDM",
    "executionInfo": {
     "status": "ok",
     "timestamp": 1706112240541,
     "user_tz": -60,
     "elapsed": 2,
     "user": {
      "displayName": "Błażej B",
      "userId": "09393835138747022407"
     }
    },
    "pycharm": {
     "name": "#%%\n"
    }
   },
   "execution_count": 3,
   "outputs": []
  },
  {
   "cell_type": "code",
   "source": [
    "pip install keras-tuner --upgrade"
   ],
   "metadata": {
    "colab": {
     "base_uri": "https://localhost:8080/"
    },
    "id": "MUZ-OgBGNxTc",
    "executionInfo": {
     "status": "ok",
     "timestamp": 1706112269768,
     "user_tz": -60,
     "elapsed": 7374,
     "user": {
      "displayName": "Błażej B",
      "userId": "09393835138747022407"
     }
    },
    "outputId": "6d730ba4-72a2-4037-83dd-0fee89c44355",
    "pycharm": {
     "name": "#%%\n"
    }
   },
   "execution_count": 5,
   "outputs": [
    {
     "output_type": "stream",
     "name": "stdout",
     "text": [
      "Collecting keras-tuner\n",
      "  Downloading keras_tuner-1.4.6-py3-none-any.whl (128 kB)\n",
      "\u001B[?25l     \u001B[90m━━━━━━━━━━━━━━━━━━━━━━━━━━━━━━━━━━━━━━━━\u001B[0m \u001B[32m0.0/128.9 kB\u001B[0m \u001B[31m?\u001B[0m eta \u001B[36m-:--:--\u001B[0m\r\u001B[2K     \u001B[91m━━━━━━━━━━━━━━━━━━━━━━━━━\u001B[0m\u001B[90m╺\u001B[0m\u001B[90m━━━━━━━━━━━━━━\u001B[0m \u001B[32m81.9/128.9 kB\u001B[0m \u001B[31m2.3 MB/s\u001B[0m eta \u001B[36m0:00:01\u001B[0m\r\u001B[2K     \u001B[90m━━━━━━━━━━━━━━━━━━━━━━━━━━━━━━━━━━━━━━━━\u001B[0m \u001B[32m128.9/128.9 kB\u001B[0m \u001B[31m2.7 MB/s\u001B[0m eta \u001B[36m0:00:00\u001B[0m\n",
      "\u001B[?25hRequirement already satisfied: keras in /usr/local/lib/python3.10/dist-packages (from keras-tuner) (2.15.0)\n",
      "Requirement already satisfied: packaging in /usr/local/lib/python3.10/dist-packages (from keras-tuner) (23.2)\n",
      "Requirement already satisfied: requests in /usr/local/lib/python3.10/dist-packages (from keras-tuner) (2.31.0)\n",
      "Collecting kt-legacy (from keras-tuner)\n",
      "  Downloading kt_legacy-1.0.5-py3-none-any.whl (9.6 kB)\n",
      "Requirement already satisfied: charset-normalizer<4,>=2 in /usr/local/lib/python3.10/dist-packages (from requests->keras-tuner) (3.3.2)\n",
      "Requirement already satisfied: idna<4,>=2.5 in /usr/local/lib/python3.10/dist-packages (from requests->keras-tuner) (3.6)\n",
      "Requirement already satisfied: urllib3<3,>=1.21.1 in /usr/local/lib/python3.10/dist-packages (from requests->keras-tuner) (2.0.7)\n",
      "Requirement already satisfied: certifi>=2017.4.17 in /usr/local/lib/python3.10/dist-packages (from requests->keras-tuner) (2023.11.17)\n",
      "Installing collected packages: kt-legacy, keras-tuner\n",
      "Successfully installed keras-tuner-1.4.6 kt-legacy-1.0.5\n"
     ]
    }
   ]
  },
  {
   "cell_type": "code",
   "source": [
    "import keras_tuner\n",
    "import keras\n",
    "import tensorflow as tf\n",
    "from tensorflow.keras.models import Sequential\n",
    "from tensorflow.keras.layers import Dense\n",
    "from kerastuner.tuners import RandomSearch"
   ],
   "metadata": {
    "colab": {
     "base_uri": "https://localhost:8080/"
    },
    "id": "kq8Of9UgNtxs",
    "executionInfo": {
     "status": "ok",
     "timestamp": 1706112280833,
     "user_tz": -60,
     "elapsed": 6496,
     "user": {
      "displayName": "Błażej B",
      "userId": "09393835138747022407"
     }
    },
    "outputId": "8e287657-e30d-4c3f-b6a1-3e8d083af462",
    "pycharm": {
     "name": "#%%\n"
    }
   },
   "execution_count": 6,
   "outputs": [
    {
     "output_type": "stream",
     "name": "stderr",
     "text": [
      "<ipython-input-6-c892c399bf26>:6: DeprecationWarning: `import kerastuner` is deprecated, please use `import keras_tuner`.\n",
      "  from kerastuner.tuners import RandomSearch\n"
     ]
    }
   ]
  },
  {
   "cell_type": "code",
   "source": [
    "def create_neural_network(hp):\n",
    "    model = Sequential()\n",
    "    model.add(Dense(64, input_dim=4, activation='relu'))\n",
    "\n",
    "    model.add(Dense(units= hp.Int('layer_1',\n",
    "                                  min_value=16,\n",
    "                                  max_value=128,\n",
    "                                  step=16),\n",
    "                    activation='relu'))\n",
    "    model.add(Dense(units= hp.Int('layer_2',\n",
    "                                  min_value=16,\n",
    "                                  max_value=128,\n",
    "                                  step=16),\n",
    "                    activation='relu'))\n",
    "    model.add(Dense(1, activation='linear'))\n",
    "\n",
    "    model.compile(loss='mean_squared_error',\n",
    "                  optimizer=keras.optimizers.Adam(\n",
    "                      hp.Choice('learning_rate',\n",
    "                                values=[1e-2, 1e-3, 1e-4])),\n",
    "                  metrics=['mae'])\n",
    "\n",
    "    return model"
   ],
   "metadata": {
    "id": "C2nLduXbN3uC",
    "executionInfo": {
     "status": "ok",
     "timestamp": 1706112291002,
     "user_tz": -60,
     "elapsed": 2,
     "user": {
      "displayName": "Błażej B",
      "userId": "09393835138747022407"
     }
    },
    "pycharm": {
     "name": "#%%\n"
    }
   },
   "execution_count": 7,
   "outputs": []
  },
  {
   "cell_type": "code",
   "source": [
    "tuner = RandomSearch(\n",
    "    create_neural_network,\n",
    "    objective= 'val_mae',\n",
    "    max_trials=5,\n",
    "    executions_per_trial = 3,\n",
    "    directory='my_dir',\n",
    "    project_name='Chilling_tuning_2_hidden_layers'\n",
    ")"
   ],
   "metadata": {
    "id": "p-XvdiYDN6H2",
    "executionInfo": {
     "status": "ok",
     "timestamp": 1706112309270,
     "user_tz": -60,
     "elapsed": 987,
     "user": {
      "displayName": "Błażej B",
      "userId": "09393835138747022407"
     }
    },
    "pycharm": {
     "name": "#%%\n"
    }
   },
   "execution_count": 8,
   "outputs": []
  },
  {
   "cell_type": "code",
   "source": [
    "tuner.search(X_train, y_train,\n",
    "             epochs=20,\n",
    "             validation_data=(X_test, y_test))"
   ],
   "metadata": {
    "colab": {
     "base_uri": "https://localhost:8080/"
    },
    "id": "CY_nZxEKN-pn",
    "executionInfo": {
     "status": "ok",
     "timestamp": 1706112569190,
     "user_tz": -60,
     "elapsed": 242386,
     "user": {
      "displayName": "Błażej B",
      "userId": "09393835138747022407"
     }
    },
    "outputId": "206b5588-2eee-466e-9f74-d6be6fee6318",
    "pycharm": {
     "name": "#%%\n"
    }
   },
   "execution_count": 9,
   "outputs": [
    {
     "output_type": "stream",
     "name": "stdout",
     "text": [
      "Trial 5 Complete [00h 00m 40s]\n",
      "val_mae: 11.349325815836588\n",
      "\n",
      "Best val_mae So Far: 10.251127243041992\n",
      "Total elapsed time: 00h 04m 02s\n"
     ]
    }
   ]
  },
  {
   "cell_type": "code",
   "source": [
    "tuner.results_summary()"
   ],
   "metadata": {
    "colab": {
     "base_uri": "https://localhost:8080/"
    },
    "id": "KKIjyPi5PALW",
    "executionInfo": {
     "status": "ok",
     "timestamp": 1706112584090,
     "user_tz": -60,
     "elapsed": 346,
     "user": {
      "displayName": "Błażej B",
      "userId": "09393835138747022407"
     }
    },
    "outputId": "9ebc492a-7301-4ca9-b62a-9bf6d2c43c07",
    "pycharm": {
     "name": "#%%\n"
    }
   },
   "execution_count": 10,
   "outputs": [
    {
     "output_type": "stream",
     "name": "stdout",
     "text": [
      "Results summary\n",
      "Results in my_dir/Chilling_tuning_2_hidden_layers\n",
      "Showing 10 best trials\n",
      "Objective(name=\"val_mae\", direction=\"min\")\n",
      "\n",
      "Trial 0 summary\n",
      "Hyperparameters:\n",
      "layer_1: 48\n",
      "layer_2: 32\n",
      "learning_rate: 0.01\n",
      "Score: 10.251127243041992\n",
      "\n",
      "Trial 1 summary\n",
      "Hyperparameters:\n",
      "layer_1: 112\n",
      "layer_2: 80\n",
      "learning_rate: 0.01\n",
      "Score: 10.514957427978516\n",
      "\n",
      "Trial 2 summary\n",
      "Hyperparameters:\n",
      "layer_1: 16\n",
      "layer_2: 96\n",
      "learning_rate: 0.01\n",
      "Score: 10.713763236999512\n",
      "\n",
      "Trial 3 summary\n",
      "Hyperparameters:\n",
      "layer_1: 128\n",
      "layer_2: 32\n",
      "learning_rate: 0.001\n",
      "Score: 11.119980494181315\n",
      "\n",
      "Trial 4 summary\n",
      "Hyperparameters:\n",
      "layer_1: 96\n",
      "layer_2: 16\n",
      "learning_rate: 0.001\n",
      "Score: 11.349325815836588\n"
     ]
    }
   ]
  },
  {
   "cell_type": "markdown",
   "source": [
    "# Tuning number of layers and number of neurons"
   ],
   "metadata": {
    "id": "rRtpJGdlPE7l",
    "pycharm": {
     "name": "#%% md\n"
    }
   }
  },
  {
   "cell_type": "code",
   "source": [
    "def create_neural_network_2(hp):\n",
    "    model = Sequential()\n",
    "    model.add(Dense(64, input_dim=4, activation='relu'))\n",
    "\n",
    "    for i in range(hp.Int('layers', 1, 4)):\n",
    "      model.add(Dense(units= hp.Int('layer_'+ str(i),\n",
    "                                  min_value=16,\n",
    "                                  max_value=128,\n",
    "                                  step=16),\n",
    "                    activation=hp.Choice('act_' + str(i), ['relu','sigmoid'])))\n",
    "\n",
    "    model.add(Dense(1, activation='linear'))\n",
    "\n",
    "    model.compile(loss='mean_squared_error',\n",
    "                  optimizer=keras.optimizers.Adam(\n",
    "                      hp.Choice('learning_rate',\n",
    "                                values=[1e-2, 1e-3, 1e-4])),\n",
    "                  metrics=['mae'])\n",
    "    return model"
   ],
   "metadata": {
    "id": "8HzdZ6bVPEpm",
    "executionInfo": {
     "status": "ok",
     "timestamp": 1706112654704,
     "user_tz": -60,
     "elapsed": 514,
     "user": {
      "displayName": "Błażej B",
      "userId": "09393835138747022407"
     }
    },
    "pycharm": {
     "name": "#%%\n"
    }
   },
   "execution_count": 14,
   "outputs": []
  },
  {
   "cell_type": "code",
   "source": [
    "tuner2 = RandomSearch(\n",
    "    create_neural_network_2,\n",
    "    objective= 'val_mae',\n",
    "    max_trials=5,\n",
    "    executions_per_trial = 3,\n",
    "    directory='my_dir',\n",
    "    project_name='Heating_tuning_final'\n",
    ")"
   ],
   "metadata": {
    "id": "GDiueWWsPKIP",
    "executionInfo": {
     "status": "ok",
     "timestamp": 1706112687981,
     "user_tz": -60,
     "elapsed": 2,
     "user": {
      "displayName": "Błażej B",
      "userId": "09393835138747022407"
     }
    },
    "pycharm": {
     "name": "#%%\n"
    }
   },
   "execution_count": 17,
   "outputs": []
  },
  {
   "cell_type": "code",
   "source": [
    "tuner2.search_space_summary()"
   ],
   "metadata": {
    "colab": {
     "base_uri": "https://localhost:8080/"
    },
    "id": "DL4Tf1jLPLV5",
    "executionInfo": {
     "status": "ok",
     "timestamp": 1706112977618,
     "user_tz": -60,
     "elapsed": 3,
     "user": {
      "displayName": "Błażej B",
      "userId": "09393835138747022407"
     }
    },
    "outputId": "d5e90986-ace4-45db-d029-7e137f50dc63",
    "pycharm": {
     "name": "#%%\n"
    }
   },
   "execution_count": 19,
   "outputs": [
    {
     "output_type": "stream",
     "name": "stdout",
     "text": [
      "Search space summary\n",
      "Default search space size: 4\n",
      "layers (Int)\n",
      "{'default': None, 'conditions': [], 'min_value': 1, 'max_value': 4, 'step': 1, 'sampling': 'linear'}\n",
      "layer_0 (Int)\n",
      "{'default': None, 'conditions': [], 'min_value': 16, 'max_value': 128, 'step': 16, 'sampling': 'linear'}\n",
      "act_0 (Choice)\n",
      "{'default': 'relu', 'conditions': [], 'values': ['relu', 'sigmoid'], 'ordered': False}\n",
      "learning_rate (Choice)\n",
      "{'default': 0.01, 'conditions': [], 'values': [0.01, 0.001, 0.0001], 'ordered': True}\n"
     ]
    }
   ]
  },
  {
   "cell_type": "code",
   "source": [
    "tuner2.search(X_train, y_train,\n",
    "             epochs=20,\n",
    "             validation_data=(X_test, y_test))"
   ],
   "metadata": {
    "colab": {
     "base_uri": "https://localhost:8080/"
    },
    "id": "1T2KsDqsQiQU",
    "executionInfo": {
     "status": "ok",
     "timestamp": 1706113250665,
     "user_tz": -60,
     "elapsed": 264267,
     "user": {
      "displayName": "Błażej B",
      "userId": "09393835138747022407"
     }
    },
    "outputId": "10e7eefb-d819-4a3a-cd9a-56dcf0a4e837",
    "pycharm": {
     "name": "#%%\n"
    }
   },
   "execution_count": 20,
   "outputs": [
    {
     "output_type": "stream",
     "name": "stdout",
     "text": [
      "Trial 5 Complete [00h 00m 58s]\n",
      "val_mae: 10.920278231302897\n",
      "\n",
      "Best val_mae So Far: 10.668936411539713\n",
      "Total elapsed time: 00h 04m 24s\n"
     ]
    }
   ]
  },
  {
   "cell_type": "code",
   "source": [
    "tuner2.results_summary()"
   ],
   "metadata": {
    "colab": {
     "base_uri": "https://localhost:8080/"
    },
    "id": "3EOVgtClRoSI",
    "executionInfo": {
     "status": "ok",
     "timestamp": 1706113273181,
     "user_tz": -60,
     "elapsed": 425,
     "user": {
      "displayName": "Błażej B",
      "userId": "09393835138747022407"
     }
    },
    "outputId": "dd35f342-4349-4289-878f-f6d3bbc2faed",
    "pycharm": {
     "name": "#%%\n"
    }
   },
   "execution_count": 21,
   "outputs": [
    {
     "output_type": "stream",
     "name": "stdout",
     "text": [
      "Results summary\n",
      "Results in my_dir/Chilling_tuning_final\n",
      "Showing 10 best trials\n",
      "Objective(name=\"val_mae\", direction=\"min\")\n",
      "\n",
      "Trial 0 summary\n",
      "Hyperparameters:\n",
      "layers: 3\n",
      "layer_0: 64\n",
      "act_0: relu\n",
      "learning_rate: 0.01\n",
      "layer_1: 16\n",
      "act_1: relu\n",
      "layer_2: 16\n",
      "act_2: relu\n",
      "Score: 10.668936411539713\n",
      "\n",
      "Trial 2 summary\n",
      "Hyperparameters:\n",
      "layers: 3\n",
      "layer_0: 32\n",
      "act_0: relu\n",
      "learning_rate: 0.001\n",
      "layer_1: 80\n",
      "act_1: sigmoid\n",
      "layer_2: 96\n",
      "act_2: relu\n",
      "Score: 10.836037953694662\n",
      "\n",
      "Trial 4 summary\n",
      "Hyperparameters:\n",
      "layers: 3\n",
      "layer_0: 16\n",
      "act_0: relu\n",
      "learning_rate: 0.01\n",
      "layer_1: 32\n",
      "act_1: sigmoid\n",
      "layer_2: 96\n",
      "act_2: relu\n",
      "Score: 10.920278231302897\n",
      "\n",
      "Trial 1 summary\n",
      "Hyperparameters:\n",
      "layers: 1\n",
      "layer_0: 112\n",
      "act_0: sigmoid\n",
      "learning_rate: 0.001\n",
      "layer_1: 128\n",
      "act_1: sigmoid\n",
      "layer_2: 48\n",
      "act_2: relu\n",
      "Score: 15.522628466288248\n",
      "\n",
      "Trial 3 summary\n",
      "Hyperparameters:\n",
      "layers: 3\n",
      "layer_0: 80\n",
      "act_0: relu\n",
      "learning_rate: 0.001\n",
      "layer_1: 96\n",
      "act_1: relu\n",
      "layer_2: 64\n",
      "act_2: sigmoid\n",
      "Score: 18.655036290486652\n"
     ]
    }
   ]
  },
  {
   "cell_type": "markdown",
   "source": [
    "Analizując powyższe wyniki, model który będzie działał najlepiej posiada trzy ukryte warstwy\n",
    "\n",
    "\n",
    "\n",
    "*   Warstwa 1 (64 neuronów, aktywator Relu)\n",
    "*   Warstwa 2 (16 neuronów, aktywator Relu)\n",
    "*   Warstwa 3 (16 neuronów, aktywator Relu)\n",
    "\n",
    "Wynik eksperymentów osiągnął MAE na poziomie 10.67"
   ],
   "metadata": {
    "id": "HaKJPWZURy33",
    "pycharm": {
     "name": "#%% md\n"
    }
   }
  },
  {
   "cell_type": "markdown",
   "source": [
    "# Tworzenie modelu"
   ],
   "metadata": {
    "id": "9xxka3liSOwo",
    "pycharm": {
     "name": "#%% md\n"
    }
   }
  },
  {
   "cell_type": "code",
   "source": [
    "def create_chilling_model():\n",
    "    model = Sequential()\n",
    "\n",
    "    model.add(Dense(64, input_dim=4, activation='relu'))\n",
    "\n",
    "    model.add(Dense(64, activation='relu'))\n",
    "    model.add(Dense(16, activation='relu'))\n",
    "    model.add(Dense(16, activation='relu'))\n",
    "\n",
    "    model.add(Dense(1))\n",
    "\n",
    "    model.compile(loss='mean_squared_error', optimizer='adam', metrics=['mae'])\n",
    "\n",
    "    return model"
   ],
   "metadata": {
    "id": "Rlu0001USLM0",
    "executionInfo": {
     "status": "ok",
     "timestamp": 1706113471679,
     "user_tz": -60,
     "elapsed": 403,
     "user": {
      "displayName": "Błażej B",
      "userId": "09393835138747022407"
     }
    },
    "pycharm": {
     "name": "#%%\n"
    }
   },
   "execution_count": 22,
   "outputs": []
  },
  {
   "cell_type": "code",
   "source": [
    "chilling_model = create_chilling_model()\n",
    "history = chilling_model.fit(X_train, y_train, epochs=200, batch_size=2, validation_data=(X_test, y_test))\n",
    "mse, mae = chilling_model.evaluate(X_test, y_test)\n",
    "print(f'Mean Squared Error: {mse}, Mean Absolute Error: {mae}')"
   ],
   "metadata": {
    "colab": {
     "base_uri": "https://localhost:8080/"
    },
    "id": "Mg6Fr-OvSabS",
    "executionInfo": {
     "status": "ok",
     "timestamp": 1706115143082,
     "user_tz": -60,
     "elapsed": 1643440,
     "user": {
      "displayName": "Błażej B",
      "userId": "09393835138747022407"
     }
    },
    "outputId": "47da9f7c-55ed-4bb7-f7dd-0e3884656fef",
    "pycharm": {
     "name": "#%%\n"
    }
   },
   "execution_count": 23,
   "outputs": [
    {
     "output_type": "stream",
     "name": "stdout",
     "text": [
      "Epoch 1/200\n",
      "3504/3504 [==============================] - 10s 3ms/step - loss: 1346.0704 - mae: 18.0409 - val_loss: 1104.6014 - val_mae: 14.8031\n",
      "Epoch 2/200\n",
      "3504/3504 [==============================] - 7s 2ms/step - loss: 933.8614 - mae: 15.0864 - val_loss: 814.6255 - val_mae: 13.1278\n",
      "Epoch 3/200\n",
      "3504/3504 [==============================] - 8s 2ms/step - loss: 848.2415 - mae: 14.2647 - val_loss: 1060.1371 - val_mae: 15.3684\n",
      "Epoch 4/200\n",
      "3504/3504 [==============================] - 8s 2ms/step - loss: 767.3345 - mae: 13.3903 - val_loss: 743.1212 - val_mae: 12.2753\n",
      "Epoch 5/200\n",
      "3504/3504 [==============================] - 7s 2ms/step - loss: 743.9530 - mae: 13.0859 - val_loss: 691.0442 - val_mae: 13.1137\n",
      "Epoch 6/200\n",
      "3504/3504 [==============================] - 9s 2ms/step - loss: 707.2444 - mae: 12.8077 - val_loss: 677.4738 - val_mae: 11.7174\n",
      "Epoch 7/200\n",
      "3504/3504 [==============================] - 8s 2ms/step - loss: 717.0601 - mae: 12.6375 - val_loss: 657.0026 - val_mae: 13.3618\n",
      "Epoch 8/200\n",
      "3504/3504 [==============================] - 9s 3ms/step - loss: 694.5681 - mae: 12.5113 - val_loss: 652.6032 - val_mae: 11.6732\n",
      "Epoch 9/200\n",
      "3504/3504 [==============================] - 10s 3ms/step - loss: 651.1634 - mae: 12.2318 - val_loss: 766.0694 - val_mae: 12.5766\n",
      "Epoch 10/200\n",
      "3504/3504 [==============================] - 8s 2ms/step - loss: 658.4484 - mae: 12.0226 - val_loss: 621.7231 - val_mae: 11.5556\n",
      "Epoch 11/200\n",
      "3504/3504 [==============================] - 8s 2ms/step - loss: 640.5775 - mae: 11.9673 - val_loss: 633.0594 - val_mae: 11.3082\n",
      "Epoch 12/200\n",
      "3504/3504 [==============================] - 8s 2ms/step - loss: 629.6043 - mae: 11.8346 - val_loss: 649.8710 - val_mae: 11.7389\n",
      "Epoch 13/200\n",
      "3504/3504 [==============================] - 7s 2ms/step - loss: 613.2704 - mae: 11.6857 - val_loss: 563.1910 - val_mae: 10.5590\n",
      "Epoch 14/200\n",
      "3504/3504 [==============================] - 9s 2ms/step - loss: 604.7493 - mae: 11.6209 - val_loss: 857.3844 - val_mae: 12.9244\n",
      "Epoch 15/200\n",
      "3504/3504 [==============================] - 7s 2ms/step - loss: 588.3893 - mae: 11.3932 - val_loss: 946.0397 - val_mae: 14.0366\n",
      "Epoch 16/200\n",
      "3504/3504 [==============================] - 8s 2ms/step - loss: 582.9275 - mae: 11.2782 - val_loss: 628.6511 - val_mae: 11.0654\n",
      "Epoch 17/200\n",
      "3504/3504 [==============================] - 8s 2ms/step - loss: 549.4785 - mae: 11.0156 - val_loss: 526.1534 - val_mae: 10.5032\n",
      "Epoch 18/200\n",
      "3504/3504 [==============================] - 7s 2ms/step - loss: 548.8472 - mae: 10.9771 - val_loss: 618.4492 - val_mae: 10.8871\n",
      "Epoch 19/200\n",
      "3504/3504 [==============================] - 8s 2ms/step - loss: 549.3058 - mae: 10.7132 - val_loss: 696.2205 - val_mae: 11.1796\n",
      "Epoch 20/200\n",
      "3504/3504 [==============================] - 7s 2ms/step - loss: 541.3864 - mae: 10.6358 - val_loss: 535.4388 - val_mae: 10.9465\n",
      "Epoch 21/200\n",
      "3504/3504 [==============================] - 8s 2ms/step - loss: 525.8083 - mae: 10.5289 - val_loss: 498.0815 - val_mae: 9.7880\n",
      "Epoch 22/200\n",
      "3504/3504 [==============================] - 9s 3ms/step - loss: 514.5130 - mae: 10.3874 - val_loss: 541.4543 - val_mae: 10.9359\n",
      "Epoch 23/200\n",
      "3504/3504 [==============================] - 8s 2ms/step - loss: 511.8434 - mae: 10.4452 - val_loss: 1058.5474 - val_mae: 13.7629\n",
      "Epoch 24/200\n",
      "3504/3504 [==============================] - 9s 2ms/step - loss: 514.0634 - mae: 10.4119 - val_loss: 488.1261 - val_mae: 10.4367\n",
      "Epoch 25/200\n",
      "3504/3504 [==============================] - 9s 3ms/step - loss: 484.9574 - mae: 10.1231 - val_loss: 428.6915 - val_mae: 8.9701\n",
      "Epoch 26/200\n",
      "3504/3504 [==============================] - 7s 2ms/step - loss: 486.6645 - mae: 10.0127 - val_loss: 592.3875 - val_mae: 10.9733\n",
      "Epoch 27/200\n",
      "3504/3504 [==============================] - 9s 2ms/step - loss: 452.8909 - mae: 9.6905 - val_loss: 418.7469 - val_mae: 9.0362\n",
      "Epoch 28/200\n",
      "3504/3504 [==============================] - 7s 2ms/step - loss: 473.9422 - mae: 9.6825 - val_loss: 444.0011 - val_mae: 9.8262\n",
      "Epoch 29/200\n",
      "3504/3504 [==============================] - 9s 2ms/step - loss: 457.8461 - mae: 9.6255 - val_loss: 401.4745 - val_mae: 8.6260\n",
      "Epoch 30/200\n",
      "3504/3504 [==============================] - 9s 2ms/step - loss: 451.4486 - mae: 9.5981 - val_loss: 445.7379 - val_mae: 8.6897\n",
      "Epoch 31/200\n",
      "3504/3504 [==============================] - 7s 2ms/step - loss: 436.3277 - mae: 9.2797 - val_loss: 365.2263 - val_mae: 8.0719\n",
      "Epoch 32/200\n",
      "3504/3504 [==============================] - 9s 2ms/step - loss: 440.1506 - mae: 9.3759 - val_loss: 438.3081 - val_mae: 8.8513\n",
      "Epoch 33/200\n",
      "3504/3504 [==============================] - 7s 2ms/step - loss: 425.7393 - mae: 9.1231 - val_loss: 372.1360 - val_mae: 8.0218\n",
      "Epoch 34/200\n",
      "3504/3504 [==============================] - 8s 2ms/step - loss: 432.3786 - mae: 9.1726 - val_loss: 367.4803 - val_mae: 8.4508\n",
      "Epoch 35/200\n",
      "3504/3504 [==============================] - 8s 2ms/step - loss: 419.2789 - mae: 9.0276 - val_loss: 380.2024 - val_mae: 8.3185\n",
      "Epoch 36/200\n",
      "3504/3504 [==============================] - 7s 2ms/step - loss: 404.9524 - mae: 8.8663 - val_loss: 362.2639 - val_mae: 7.9549\n",
      "Epoch 37/200\n",
      "3504/3504 [==============================] - 8s 2ms/step - loss: 404.7451 - mae: 8.8241 - val_loss: 591.2297 - val_mae: 9.5995\n",
      "Epoch 38/200\n",
      "3504/3504 [==============================] - 8s 2ms/step - loss: 392.3176 - mae: 8.6660 - val_loss: 354.2273 - val_mae: 7.5698\n",
      "Epoch 39/200\n",
      "3504/3504 [==============================] - 8s 2ms/step - loss: 399.1046 - mae: 8.8214 - val_loss: 376.6385 - val_mae: 8.4061\n",
      "Epoch 40/200\n",
      "3504/3504 [==============================] - 8s 2ms/step - loss: 390.9026 - mae: 8.6397 - val_loss: 364.9342 - val_mae: 7.5671\n",
      "Epoch 41/200\n",
      "3504/3504 [==============================] - 7s 2ms/step - loss: 381.9634 - mae: 8.3158 - val_loss: 413.4818 - val_mae: 8.2168\n",
      "Epoch 42/200\n",
      "3504/3504 [==============================] - 8s 2ms/step - loss: 384.9903 - mae: 8.5894 - val_loss: 338.4003 - val_mae: 7.3987\n",
      "Epoch 43/200\n",
      "3504/3504 [==============================] - 7s 2ms/step - loss: 395.3683 - mae: 8.5343 - val_loss: 358.5868 - val_mae: 7.7414\n",
      "Epoch 44/200\n",
      "3504/3504 [==============================] - 9s 2ms/step - loss: 367.7658 - mae: 8.3094 - val_loss: 328.8188 - val_mae: 7.2928\n",
      "Epoch 45/200\n",
      "3504/3504 [==============================] - 8s 2ms/step - loss: 373.5552 - mae: 8.4557 - val_loss: 579.7484 - val_mae: 10.4142\n",
      "Epoch 46/200\n",
      "3504/3504 [==============================] - 7s 2ms/step - loss: 382.3136 - mae: 8.3633 - val_loss: 411.5529 - val_mae: 8.7429\n",
      "Epoch 47/200\n",
      "3504/3504 [==============================] - 9s 2ms/step - loss: 360.1176 - mae: 8.2236 - val_loss: 314.4049 - val_mae: 7.2031\n",
      "Epoch 48/200\n",
      "3504/3504 [==============================] - 7s 2ms/step - loss: 359.8941 - mae: 8.2937 - val_loss: 337.4895 - val_mae: 7.6265\n",
      "Epoch 49/200\n",
      "3504/3504 [==============================] - 8s 2ms/step - loss: 356.9286 - mae: 8.0995 - val_loss: 355.9745 - val_mae: 7.5348\n",
      "Epoch 50/200\n",
      "3504/3504 [==============================] - 9s 2ms/step - loss: 338.6472 - mae: 7.9197 - val_loss: 450.4182 - val_mae: 8.9540\n",
      "Epoch 51/200\n",
      "3504/3504 [==============================] - 8s 2ms/step - loss: 353.9979 - mae: 8.1140 - val_loss: 946.2800 - val_mae: 13.8102\n",
      "Epoch 52/200\n",
      "3504/3504 [==============================] - 9s 2ms/step - loss: 343.6776 - mae: 7.9768 - val_loss: 360.6406 - val_mae: 7.5215\n",
      "Epoch 53/200\n",
      "3504/3504 [==============================] - 9s 3ms/step - loss: 349.1123 - mae: 7.9482 - val_loss: 299.9617 - val_mae: 7.0010\n",
      "Epoch 54/200\n",
      "3504/3504 [==============================] - 7s 2ms/step - loss: 332.0401 - mae: 7.8975 - val_loss: 494.3309 - val_mae: 9.4179\n",
      "Epoch 55/200\n",
      "3504/3504 [==============================] - 9s 2ms/step - loss: 340.0839 - mae: 7.9284 - val_loss: 297.5709 - val_mae: 6.8325\n",
      "Epoch 56/200\n",
      "3504/3504 [==============================] - 7s 2ms/step - loss: 345.0726 - mae: 7.8420 - val_loss: 427.5502 - val_mae: 9.5640\n",
      "Epoch 57/200\n",
      "3504/3504 [==============================] - 8s 2ms/step - loss: 348.6906 - mae: 7.8860 - val_loss: 345.0334 - val_mae: 7.4558\n",
      "Epoch 58/200\n",
      "3504/3504 [==============================] - 8s 2ms/step - loss: 343.5463 - mae: 7.8303 - val_loss: 626.6857 - val_mae: 10.5698\n",
      "Epoch 59/200\n",
      "3504/3504 [==============================] - 8s 2ms/step - loss: 342.3490 - mae: 7.8386 - val_loss: 394.3032 - val_mae: 8.5178\n",
      "Epoch 60/200\n",
      "3504/3504 [==============================] - 8s 2ms/step - loss: 323.7629 - mae: 7.7591 - val_loss: 378.1479 - val_mae: 8.1832\n",
      "Epoch 61/200\n",
      "3504/3504 [==============================] - 7s 2ms/step - loss: 339.0256 - mae: 7.8345 - val_loss: 340.0451 - val_mae: 7.9083\n",
      "Epoch 62/200\n",
      "3504/3504 [==============================] - 8s 2ms/step - loss: 319.4180 - mae: 7.8006 - val_loss: 399.2250 - val_mae: 8.5100\n",
      "Epoch 63/200\n",
      "3504/3504 [==============================] - 9s 3ms/step - loss: 339.7692 - mae: 7.8875 - val_loss: 333.6987 - val_mae: 7.5343\n",
      "Epoch 64/200\n",
      "3504/3504 [==============================] - 7s 2ms/step - loss: 337.6913 - mae: 7.8533 - val_loss: 341.7074 - val_mae: 7.5353\n",
      "Epoch 65/200\n",
      "3504/3504 [==============================] - 8s 2ms/step - loss: 329.8382 - mae: 7.7845 - val_loss: 299.9474 - val_mae: 7.1515\n",
      "Epoch 66/200\n",
      "3504/3504 [==============================] - 8s 2ms/step - loss: 319.0936 - mae: 7.7250 - val_loss: 309.0479 - val_mae: 7.0168\n",
      "Epoch 67/200\n",
      "3504/3504 [==============================] - 8s 2ms/step - loss: 335.3754 - mae: 7.7052 - val_loss: 298.7157 - val_mae: 7.3298\n",
      "Epoch 68/200\n",
      "3504/3504 [==============================] - 8s 2ms/step - loss: 316.7366 - mae: 7.6659 - val_loss: 340.4261 - val_mae: 7.4513\n",
      "Epoch 69/200\n",
      "3504/3504 [==============================] - 8s 2ms/step - loss: 332.8194 - mae: 7.7853 - val_loss: 282.1464 - val_mae: 7.1793\n",
      "Epoch 70/200\n",
      "3504/3504 [==============================] - 9s 3ms/step - loss: 322.2559 - mae: 7.7283 - val_loss: 324.7243 - val_mae: 7.2098\n",
      "Epoch 71/200\n",
      "3504/3504 [==============================] - 7s 2ms/step - loss: 327.0363 - mae: 7.6749 - val_loss: 404.6710 - val_mae: 9.1867\n",
      "Epoch 72/200\n",
      "3504/3504 [==============================] - 8s 2ms/step - loss: 315.4454 - mae: 7.6950 - val_loss: 306.0788 - val_mae: 6.7039\n",
      "Epoch 73/200\n",
      "3504/3504 [==============================] - 9s 2ms/step - loss: 315.8416 - mae: 7.6062 - val_loss: 276.4723 - val_mae: 6.4736\n",
      "Epoch 74/200\n",
      "3504/3504 [==============================] - 7s 2ms/step - loss: 326.8726 - mae: 7.5730 - val_loss: 422.4213 - val_mae: 8.3605\n",
      "Epoch 75/200\n",
      "3504/3504 [==============================] - 9s 3ms/step - loss: 311.6672 - mae: 7.6558 - val_loss: 345.2155 - val_mae: 8.1074\n",
      "Epoch 76/200\n",
      "3504/3504 [==============================] - 9s 3ms/step - loss: 301.6657 - mae: 7.3369 - val_loss: 322.1789 - val_mae: 7.6726\n",
      "Epoch 77/200\n",
      "3504/3504 [==============================] - 7s 2ms/step - loss: 305.7489 - mae: 7.4783 - val_loss: 336.0071 - val_mae: 7.3826\n",
      "Epoch 78/200\n",
      "3504/3504 [==============================] - 9s 2ms/step - loss: 309.4156 - mae: 7.5600 - val_loss: 297.3495 - val_mae: 6.8541\n",
      "Epoch 79/200\n",
      "3504/3504 [==============================] - 7s 2ms/step - loss: 292.8986 - mae: 7.3404 - val_loss: 309.1677 - val_mae: 7.5789\n",
      "Epoch 80/200\n",
      "3504/3504 [==============================] - 8s 2ms/step - loss: 292.5520 - mae: 7.3356 - val_loss: 364.9973 - val_mae: 7.5865\n",
      "Epoch 81/200\n",
      "3504/3504 [==============================] - 8s 2ms/step - loss: 298.1325 - mae: 7.3259 - val_loss: 280.0713 - val_mae: 6.6711\n",
      "Epoch 82/200\n",
      "3504/3504 [==============================] - 7s 2ms/step - loss: 293.5178 - mae: 7.2436 - val_loss: 415.9858 - val_mae: 8.3577\n",
      "Epoch 83/200\n",
      "3504/3504 [==============================] - 9s 2ms/step - loss: 281.2711 - mae: 7.1417 - val_loss: 305.5805 - val_mae: 7.3568\n",
      "Epoch 84/200\n",
      "3504/3504 [==============================] - 7s 2ms/step - loss: 306.8081 - mae: 7.3451 - val_loss: 261.0634 - val_mae: 6.5481\n",
      "Epoch 85/200\n",
      "3504/3504 [==============================] - 8s 2ms/step - loss: 289.2414 - mae: 7.0952 - val_loss: 281.9983 - val_mae: 6.9996\n",
      "Epoch 86/200\n",
      "3504/3504 [==============================] - 8s 2ms/step - loss: 289.4444 - mae: 7.1521 - val_loss: 337.0245 - val_mae: 7.4459\n",
      "Epoch 87/200\n",
      "3504/3504 [==============================] - 7s 2ms/step - loss: 286.7615 - mae: 7.3321 - val_loss: 268.2228 - val_mae: 6.6337\n",
      "Epoch 88/200\n",
      "3504/3504 [==============================] - 9s 3ms/step - loss: 289.4200 - mae: 7.3009 - val_loss: 348.4484 - val_mae: 8.3100\n",
      "Epoch 89/200\n",
      "3504/3504 [==============================] - 8s 2ms/step - loss: 279.8678 - mae: 7.2499 - val_loss: 324.6936 - val_mae: 7.5276\n",
      "Epoch 90/200\n",
      "3504/3504 [==============================] - 9s 2ms/step - loss: 271.7304 - mae: 7.0919 - val_loss: 453.6547 - val_mae: 8.8835\n",
      "Epoch 91/200\n",
      "3504/3504 [==============================] - 9s 3ms/step - loss: 299.4838 - mae: 7.2193 - val_loss: 257.7809 - val_mae: 6.6259\n",
      "Epoch 92/200\n",
      "3504/3504 [==============================] - 8s 2ms/step - loss: 266.5742 - mae: 7.0056 - val_loss: 282.8716 - val_mae: 6.7808\n",
      "Epoch 93/200\n",
      "3504/3504 [==============================] - 9s 3ms/step - loss: 299.1122 - mae: 7.1612 - val_loss: 272.7414 - val_mae: 6.9109\n",
      "Epoch 94/200\n",
      "3504/3504 [==============================] - 9s 3ms/step - loss: 290.9008 - mae: 7.1661 - val_loss: 423.2639 - val_mae: 8.6092\n",
      "Epoch 95/200\n",
      "3504/3504 [==============================] - 7s 2ms/step - loss: 282.5962 - mae: 7.0190 - val_loss: 261.8612 - val_mae: 6.4861\n",
      "Epoch 96/200\n",
      "3504/3504 [==============================] - 8s 2ms/step - loss: 274.7389 - mae: 7.0861 - val_loss: 271.0266 - val_mae: 7.0645\n",
      "Epoch 97/200\n",
      "3504/3504 [==============================] - 9s 3ms/step - loss: 286.0223 - mae: 7.0252 - val_loss: 493.4608 - val_mae: 9.3071\n",
      "Epoch 98/200\n",
      "3504/3504 [==============================] - 7s 2ms/step - loss: 262.4594 - mae: 6.9848 - val_loss: 260.0479 - val_mae: 7.0248\n",
      "Epoch 99/200\n",
      "3504/3504 [==============================] - 8s 2ms/step - loss: 282.4529 - mae: 6.9222 - val_loss: 258.4356 - val_mae: 6.4750\n",
      "Epoch 100/200\n",
      "3504/3504 [==============================] - 8s 2ms/step - loss: 282.0858 - mae: 7.1024 - val_loss: 269.8719 - val_mae: 6.6699\n",
      "Epoch 101/200\n",
      "3504/3504 [==============================] - 9s 2ms/step - loss: 268.7564 - mae: 6.9802 - val_loss: 266.9867 - val_mae: 6.6654\n",
      "Epoch 102/200\n",
      "3504/3504 [==============================] - 8s 2ms/step - loss: 262.5269 - mae: 6.8442 - val_loss: 472.5484 - val_mae: 9.2004\n",
      "Epoch 103/200\n",
      "3504/3504 [==============================] - 8s 2ms/step - loss: 282.9444 - mae: 7.1252 - val_loss: 279.6449 - val_mae: 6.7920\n",
      "Epoch 104/200\n",
      "3504/3504 [==============================] - 9s 2ms/step - loss: 274.9402 - mae: 6.9770 - val_loss: 355.9681 - val_mae: 7.9999\n",
      "Epoch 105/200\n",
      "3504/3504 [==============================] - 7s 2ms/step - loss: 271.1040 - mae: 6.9845 - val_loss: 287.9151 - val_mae: 6.7305\n",
      "Epoch 106/200\n",
      "3504/3504 [==============================] - 8s 2ms/step - loss: 269.9898 - mae: 6.8117 - val_loss: 262.3444 - val_mae: 6.6816\n",
      "Epoch 107/200\n",
      "3504/3504 [==============================] - 9s 3ms/step - loss: 248.1372 - mae: 6.8321 - val_loss: 630.6797 - val_mae: 10.7758\n",
      "Epoch 108/200\n",
      "3504/3504 [==============================] - 7s 2ms/step - loss: 271.3110 - mae: 7.0815 - val_loss: 278.5122 - val_mae: 6.8384\n",
      "Epoch 109/200\n",
      "3504/3504 [==============================] - 9s 2ms/step - loss: 261.1081 - mae: 6.8613 - val_loss: 274.0191 - val_mae: 7.3904\n",
      "Epoch 110/200\n",
      "3504/3504 [==============================] - 9s 3ms/step - loss: 258.5231 - mae: 6.8531 - val_loss: 275.2432 - val_mae: 7.0819\n",
      "Epoch 111/200\n",
      "3504/3504 [==============================] - 7s 2ms/step - loss: 240.7607 - mae: 6.6985 - val_loss: 537.9069 - val_mae: 9.9341\n",
      "Epoch 112/200\n",
      "3504/3504 [==============================] - 9s 3ms/step - loss: 259.6509 - mae: 6.8566 - val_loss: 226.9338 - val_mae: 6.3864\n",
      "Epoch 113/200\n",
      "3504/3504 [==============================] - 7s 2ms/step - loss: 251.6521 - mae: 6.7372 - val_loss: 307.0051 - val_mae: 7.5781\n",
      "Epoch 114/200\n",
      "3504/3504 [==============================] - 9s 2ms/step - loss: 269.3493 - mae: 6.8905 - val_loss: 383.6446 - val_mae: 8.6711\n",
      "Epoch 115/200\n",
      "3504/3504 [==============================] - 8s 2ms/step - loss: 261.0608 - mae: 6.8040 - val_loss: 445.2609 - val_mae: 8.8911\n",
      "Epoch 116/200\n",
      "3504/3504 [==============================] - 7s 2ms/step - loss: 258.5306 - mae: 6.7844 - val_loss: 250.6513 - val_mae: 7.1498\n",
      "Epoch 117/200\n",
      "3504/3504 [==============================] - 9s 2ms/step - loss: 275.5361 - mae: 6.9117 - val_loss: 255.8168 - val_mae: 6.8035\n",
      "Epoch 118/200\n",
      "3504/3504 [==============================] - 9s 3ms/step - loss: 245.3974 - mae: 6.6269 - val_loss: 283.5011 - val_mae: 6.8396\n",
      "Epoch 119/200\n",
      "3504/3504 [==============================] - 7s 2ms/step - loss: 250.8603 - mae: 6.5516 - val_loss: 286.3579 - val_mae: 7.3339\n",
      "Epoch 120/200\n",
      "3504/3504 [==============================] - 9s 2ms/step - loss: 261.9700 - mae: 6.8755 - val_loss: 262.4257 - val_mae: 6.6656\n",
      "Epoch 121/200\n",
      "3504/3504 [==============================] - 7s 2ms/step - loss: 247.3085 - mae: 6.7493 - val_loss: 316.5258 - val_mae: 7.6869\n",
      "Epoch 122/200\n",
      "3504/3504 [==============================] - 8s 2ms/step - loss: 261.3427 - mae: 6.8869 - val_loss: 261.4536 - val_mae: 6.8256\n",
      "Epoch 123/200\n",
      "3504/3504 [==============================] - 8s 2ms/step - loss: 245.1410 - mae: 6.6265 - val_loss: 597.4620 - val_mae: 10.1180\n",
      "Epoch 124/200\n",
      "3504/3504 [==============================] - 8s 2ms/step - loss: 248.4366 - mae: 6.8015 - val_loss: 327.5042 - val_mae: 7.9226\n",
      "Epoch 125/200\n",
      "3504/3504 [==============================] - 9s 2ms/step - loss: 254.2984 - mae: 6.7201 - val_loss: 302.8260 - val_mae: 7.4919\n",
      "Epoch 126/200\n",
      "3504/3504 [==============================] - 7s 2ms/step - loss: 258.4508 - mae: 6.7501 - val_loss: 299.7688 - val_mae: 7.1021\n",
      "Epoch 127/200\n",
      "3504/3504 [==============================] - 9s 3ms/step - loss: 250.3736 - mae: 6.6977 - val_loss: 305.9006 - val_mae: 7.1300\n",
      "Epoch 128/200\n",
      "3504/3504 [==============================] - 8s 2ms/step - loss: 239.7706 - mae: 6.5504 - val_loss: 301.9981 - val_mae: 7.3293\n",
      "Epoch 129/200\n",
      "3504/3504 [==============================] - 8s 2ms/step - loss: 253.9410 - mae: 6.7441 - val_loss: 270.6917 - val_mae: 7.0081\n",
      "Epoch 130/200\n",
      "3504/3504 [==============================] - 8s 2ms/step - loss: 249.1117 - mae: 6.6449 - val_loss: 241.3148 - val_mae: 6.1119\n",
      "Epoch 131/200\n",
      "3504/3504 [==============================] - 7s 2ms/step - loss: 260.5620 - mae: 6.6645 - val_loss: 255.8159 - val_mae: 6.5463\n",
      "Epoch 132/200\n",
      "3504/3504 [==============================] - 9s 3ms/step - loss: 236.9708 - mae: 6.6182 - val_loss: 462.1800 - val_mae: 9.1345\n",
      "Epoch 133/200\n",
      "3504/3504 [==============================] - 8s 2ms/step - loss: 241.9396 - mae: 6.6953 - val_loss: 354.0161 - val_mae: 8.3789\n",
      "Epoch 134/200\n",
      "3504/3504 [==============================] - 7s 2ms/step - loss: 246.1891 - mae: 6.5082 - val_loss: 276.3221 - val_mae: 6.4169\n",
      "Epoch 135/200\n",
      "3504/3504 [==============================] - 8s 2ms/step - loss: 254.0781 - mae: 6.6301 - val_loss: 296.0988 - val_mae: 7.4479\n",
      "Epoch 136/200\n",
      "3504/3504 [==============================] - 7s 2ms/step - loss: 230.7286 - mae: 6.5235 - val_loss: 272.4234 - val_mae: 7.0615\n",
      "Epoch 137/200\n",
      "3504/3504 [==============================] - 9s 3ms/step - loss: 253.8644 - mae: 6.5885 - val_loss: 290.5659 - val_mae: 7.2027\n",
      "Epoch 138/200\n",
      "3504/3504 [==============================] - 8s 2ms/step - loss: 247.7308 - mae: 6.5939 - val_loss: 250.8175 - val_mae: 6.9860\n",
      "Epoch 139/200\n",
      "3504/3504 [==============================] - 8s 2ms/step - loss: 238.4723 - mae: 6.5386 - val_loss: 272.4639 - val_mae: 6.4702\n",
      "Epoch 140/200\n",
      "3504/3504 [==============================] - 9s 2ms/step - loss: 244.6850 - mae: 6.5903 - val_loss: 296.3298 - val_mae: 6.8444\n",
      "Epoch 141/200\n",
      "3504/3504 [==============================] - 8s 2ms/step - loss: 264.5544 - mae: 6.7039 - val_loss: 229.4383 - val_mae: 6.5745\n",
      "Epoch 142/200\n",
      "3504/3504 [==============================] - 8s 2ms/step - loss: 239.1533 - mae: 6.5382 - val_loss: 324.0928 - val_mae: 7.5045\n",
      "Epoch 143/200\n",
      "3504/3504 [==============================] - 8s 2ms/step - loss: 264.4786 - mae: 6.7515 - val_loss: 260.5169 - val_mae: 6.6376\n",
      "Epoch 144/200\n",
      "3504/3504 [==============================] - 7s 2ms/step - loss: 224.2842 - mae: 6.3754 - val_loss: 310.4321 - val_mae: 7.0660\n",
      "Epoch 145/200\n",
      "3504/3504 [==============================] - 8s 2ms/step - loss: 248.0825 - mae: 6.6290 - val_loss: 373.6712 - val_mae: 7.6931\n",
      "Epoch 146/200\n",
      "3504/3504 [==============================] - 7s 2ms/step - loss: 246.7909 - mae: 6.5721 - val_loss: 495.1890 - val_mae: 9.6473\n",
      "Epoch 147/200\n",
      "3504/3504 [==============================] - 9s 2ms/step - loss: 239.2502 - mae: 6.5625 - val_loss: 247.9177 - val_mae: 6.9189\n",
      "Epoch 148/200\n",
      "3504/3504 [==============================] - 9s 2ms/step - loss: 241.0596 - mae: 6.5693 - val_loss: 266.3355 - val_mae: 6.8370\n",
      "Epoch 149/200\n",
      "3504/3504 [==============================] - 8s 2ms/step - loss: 243.0302 - mae: 6.4952 - val_loss: 250.2339 - val_mae: 6.5314\n",
      "Epoch 150/200\n",
      "3504/3504 [==============================] - 8s 2ms/step - loss: 242.2644 - mae: 6.4633 - val_loss: 268.3134 - val_mae: 6.9999\n",
      "Epoch 151/200\n",
      "3504/3504 [==============================] - 9s 3ms/step - loss: 225.6505 - mae: 6.3208 - val_loss: 305.2457 - val_mae: 6.4300\n",
      "Epoch 152/200\n",
      "3504/3504 [==============================] - 8s 2ms/step - loss: 267.1078 - mae: 6.6745 - val_loss: 255.8378 - val_mae: 6.7966\n",
      "Epoch 153/200\n",
      "3504/3504 [==============================] - 9s 2ms/step - loss: 217.4025 - mae: 6.3892 - val_loss: 301.8448 - val_mae: 7.0481\n",
      "Epoch 154/200\n",
      "3504/3504 [==============================] - 8s 2ms/step - loss: 243.3000 - mae: 6.4620 - val_loss: 244.1400 - val_mae: 6.6918\n",
      "Epoch 155/200\n",
      "3504/3504 [==============================] - 8s 2ms/step - loss: 236.2734 - mae: 6.5042 - val_loss: 245.0295 - val_mae: 6.7627\n",
      "Epoch 156/200\n",
      "3504/3504 [==============================] - 9s 2ms/step - loss: 230.4607 - mae: 6.4312 - val_loss: 290.2765 - val_mae: 6.7425\n",
      "Epoch 157/200\n",
      "3504/3504 [==============================] - 7s 2ms/step - loss: 223.9029 - mae: 6.2902 - val_loss: 328.6162 - val_mae: 7.2727\n",
      "Epoch 158/200\n",
      "3504/3504 [==============================] - 9s 2ms/step - loss: 241.7065 - mae: 6.4814 - val_loss: 286.7841 - val_mae: 6.8644\n",
      "Epoch 159/200\n",
      "3504/3504 [==============================] - 8s 2ms/step - loss: 250.6019 - mae: 6.4682 - val_loss: 228.6417 - val_mae: 6.2324\n",
      "Epoch 160/200\n",
      "3504/3504 [==============================] - 8s 2ms/step - loss: 205.9556 - mae: 6.1613 - val_loss: 260.3128 - val_mae: 6.5906\n",
      "Epoch 161/200\n",
      "3504/3504 [==============================] - 8s 2ms/step - loss: 248.3782 - mae: 6.5329 - val_loss: 230.1477 - val_mae: 6.2571\n",
      "Epoch 162/200\n",
      "3504/3504 [==============================] - 7s 2ms/step - loss: 230.3701 - mae: 6.3753 - val_loss: 255.2804 - val_mae: 7.0051\n",
      "Epoch 163/200\n",
      "3504/3504 [==============================] - 9s 3ms/step - loss: 237.9171 - mae: 6.5141 - val_loss: 373.1864 - val_mae: 8.0678\n",
      "Epoch 164/200\n",
      "3504/3504 [==============================] - 9s 3ms/step - loss: 236.3241 - mae: 6.4383 - val_loss: 256.8795 - val_mae: 7.3289\n",
      "Epoch 165/200\n",
      "3504/3504 [==============================] - 8s 2ms/step - loss: 220.0453 - mae: 6.4524 - val_loss: 230.3146 - val_mae: 6.5301\n",
      "Epoch 166/200\n",
      "3504/3504 [==============================] - 9s 3ms/step - loss: 227.1185 - mae: 6.3236 - val_loss: 374.4311 - val_mae: 8.2377\n",
      "Epoch 167/200\n",
      "3504/3504 [==============================] - 7s 2ms/step - loss: 245.7210 - mae: 6.6695 - val_loss: 239.2920 - val_mae: 6.2371\n",
      "Epoch 168/200\n",
      "3504/3504 [==============================] - 9s 2ms/step - loss: 239.3110 - mae: 6.4036 - val_loss: 285.4254 - val_mae: 7.1336\n",
      "Epoch 169/200\n",
      "3504/3504 [==============================] - 8s 2ms/step - loss: 237.8083 - mae: 6.4282 - val_loss: 306.5706 - val_mae: 7.7122\n",
      "Epoch 170/200\n",
      "3504/3504 [==============================] - 7s 2ms/step - loss: 234.6559 - mae: 6.4620 - val_loss: 223.7748 - val_mae: 6.3913\n",
      "Epoch 171/200\n",
      "3504/3504 [==============================] - 9s 2ms/step - loss: 231.6403 - mae: 6.2631 - val_loss: 231.9691 - val_mae: 6.2460\n",
      "Epoch 172/200\n",
      "3504/3504 [==============================] - 7s 2ms/step - loss: 217.1672 - mae: 6.2147 - val_loss: 210.7537 - val_mae: 6.1999\n",
      "Epoch 173/200\n",
      "3504/3504 [==============================] - 9s 2ms/step - loss: 234.5780 - mae: 6.3234 - val_loss: 277.4296 - val_mae: 7.0511\n",
      "Epoch 174/200\n",
      "3504/3504 [==============================] - 8s 2ms/step - loss: 216.4519 - mae: 6.2880 - val_loss: 272.7155 - val_mae: 6.7746\n",
      "Epoch 175/200\n",
      "3504/3504 [==============================] - 8s 2ms/step - loss: 220.6236 - mae: 6.2914 - val_loss: 230.0482 - val_mae: 6.4003\n",
      "Epoch 176/200\n",
      "3504/3504 [==============================] - 9s 3ms/step - loss: 188.5302 - mae: 5.9214 - val_loss: 399.6316 - val_mae: 8.5721\n",
      "Epoch 177/200\n",
      "3504/3504 [==============================] - 7s 2ms/step - loss: 231.4063 - mae: 6.3203 - val_loss: 269.2413 - val_mae: 6.5535\n",
      "Epoch 178/200\n",
      "3504/3504 [==============================] - 9s 3ms/step - loss: 239.1890 - mae: 6.3771 - val_loss: 243.0339 - val_mae: 6.1098\n",
      "Epoch 179/200\n",
      "3504/3504 [==============================] - 8s 2ms/step - loss: 224.8271 - mae: 6.3750 - val_loss: 244.8984 - val_mae: 6.9770\n",
      "Epoch 180/200\n",
      "3504/3504 [==============================] - 7s 2ms/step - loss: 222.8220 - mae: 6.2746 - val_loss: 257.9425 - val_mae: 6.8253\n",
      "Epoch 181/200\n",
      "3504/3504 [==============================] - 9s 2ms/step - loss: 218.5602 - mae: 6.0703 - val_loss: 257.2007 - val_mae: 6.4016\n",
      "Epoch 182/200\n",
      "3504/3504 [==============================] - 7s 2ms/step - loss: 220.9464 - mae: 6.1538 - val_loss: 236.6464 - val_mae: 6.6273\n",
      "Epoch 183/200\n",
      "3504/3504 [==============================] - 9s 3ms/step - loss: 213.4924 - mae: 6.2582 - val_loss: 284.9676 - val_mae: 6.8236\n",
      "Epoch 184/200\n",
      "3504/3504 [==============================] - 8s 2ms/step - loss: 213.0930 - mae: 6.0199 - val_loss: 262.7428 - val_mae: 6.4395\n",
      "Epoch 185/200\n",
      "3504/3504 [==============================] - 7s 2ms/step - loss: 252.2929 - mae: 6.4263 - val_loss: 305.1096 - val_mae: 7.0695\n",
      "Epoch 186/200\n",
      "3504/3504 [==============================] - 9s 2ms/step - loss: 227.0685 - mae: 6.3203 - val_loss: 258.8868 - val_mae: 6.5128\n",
      "Epoch 187/200\n",
      "3504/3504 [==============================] - 8s 2ms/step - loss: 214.4577 - mae: 6.1412 - val_loss: 304.9221 - val_mae: 8.3054\n",
      "Epoch 188/200\n",
      "3504/3504 [==============================] - 9s 2ms/step - loss: 220.0259 - mae: 6.2493 - val_loss: 272.9031 - val_mae: 7.4912\n",
      "Epoch 189/200\n",
      "3504/3504 [==============================] - 9s 3ms/step - loss: 216.4904 - mae: 6.0815 - val_loss: 272.7475 - val_mae: 6.8787\n",
      "Epoch 190/200\n",
      "3504/3504 [==============================] - 8s 2ms/step - loss: 237.1340 - mae: 6.3549 - val_loss: 260.0309 - val_mae: 6.6706\n",
      "Epoch 191/200\n",
      "3504/3504 [==============================] - 8s 2ms/step - loss: 222.5617 - mae: 6.2519 - val_loss: 248.4488 - val_mae: 6.8668\n",
      "Epoch 192/200\n",
      "3504/3504 [==============================] - 9s 2ms/step - loss: 231.3155 - mae: 6.2441 - val_loss: 201.6048 - val_mae: 6.0619\n",
      "Epoch 193/200\n",
      "3504/3504 [==============================] - 8s 2ms/step - loss: 226.4429 - mae: 6.3529 - val_loss: 300.6387 - val_mae: 6.9848\n",
      "Epoch 194/200\n",
      "3504/3504 [==============================] - 9s 3ms/step - loss: 218.3494 - mae: 6.1780 - val_loss: 262.1202 - val_mae: 6.2852\n",
      "Epoch 195/200\n",
      "3504/3504 [==============================] - 8s 2ms/step - loss: 226.9386 - mae: 6.1586 - val_loss: 320.4283 - val_mae: 7.6709\n",
      "Epoch 196/200\n",
      "3504/3504 [==============================] - 9s 2ms/step - loss: 229.2542 - mae: 6.2068 - val_loss: 303.5177 - val_mae: 7.6231\n",
      "Epoch 197/200\n",
      "3504/3504 [==============================] - 9s 2ms/step - loss: 229.7898 - mae: 6.2225 - val_loss: 274.3271 - val_mae: 6.5959\n",
      "Epoch 198/200\n",
      "3504/3504 [==============================] - 7s 2ms/step - loss: 224.2770 - mae: 6.2855 - val_loss: 212.8591 - val_mae: 6.3543\n",
      "Epoch 199/200\n",
      "3504/3504 [==============================] - 8s 2ms/step - loss: 194.1569 - mae: 5.9610 - val_loss: 300.9178 - val_mae: 6.9038\n",
      "Epoch 200/200\n",
      "3504/3504 [==============================] - 8s 2ms/step - loss: 231.4798 - mae: 6.3367 - val_loss: 238.2726 - val_mae: 6.1908\n",
      "55/55 [==============================] - 0s 2ms/step - loss: 238.2726 - mae: 6.1908\n",
      "Mean Squared Error: 238.2725830078125, Mean Absolute Error: 6.190804481506348\n"
     ]
    }
   ]
  },
  {
   "cell_type": "code",
   "source": [
    "def plot_loss(history):\n",
    "  plt.plot(history.history['loss'], label='loss')\n",
    "  plt.plot(history.history['val_loss'], label='val_loss')\n",
    "  plt.xlabel('Epoch')\n",
    "  plt.legend(['Loss', 'Val_loss'], loc='upper right')\n",
    "  plt.grid(True)\n",
    "\n",
    "def plot_mae(history):\n",
    "  plt.plot(history.history['mae'], label='mae')\n",
    "  plt.plot(history.history['val_mae'], label='val_mae')\n",
    "  #plt.xlabel('loss')\n",
    "  plt.xlabel('Epoch')\n",
    "  plt.legend(['mae', 'Val_mae'], loc='upper right')\n",
    "  plt.grid(True)"
   ],
   "metadata": {
    "id": "G2IBS5LEYzIk",
    "executionInfo": {
     "status": "ok",
     "timestamp": 1706115153037,
     "user_tz": -60,
     "elapsed": 611,
     "user": {
      "displayName": "Błażej B",
      "userId": "09393835138747022407"
     }
    },
    "pycharm": {
     "name": "#%%\n"
    }
   },
   "execution_count": 24,
   "outputs": []
  },
  {
   "cell_type": "code",
   "source": [
    "plot_mae(history)"
   ],
   "metadata": {
    "colab": {
     "base_uri": "https://localhost:8080/",
     "height": 449
    },
    "id": "4tYEsLoRY0o5",
    "executionInfo": {
     "status": "ok",
     "timestamp": 1706115159559,
     "user_tz": -60,
     "elapsed": 1141,
     "user": {
      "displayName": "Błażej B",
      "userId": "09393835138747022407"
     }
    },
    "outputId": "413fc040-488d-4ac3-aeef-42b2d14e4464",
    "pycharm": {
     "name": "#%%\n"
    }
   },
   "execution_count": 25,
   "outputs": [
    {
     "output_type": "display_data",
     "data": {
      "text/plain": [
       "<Figure size 640x480 with 1 Axes>"
      ],
      "image/png": "[encoded data removed]"
     },
     "metadata": {}
    }
   ]
  },
  {
   "cell_type": "code",
   "source": [
    "plot_loss(history)"
   ],
   "metadata": {
    "colab": {
     "base_uri": "https://localhost:8080/",
     "height": 454
    },
    "id": "naTbvbQPY2wL",
    "executionInfo": {
     "status": "ok",
     "timestamp": 1706115167400,
     "user_tz": -60,
     "elapsed": 922,
     "user": {
      "displayName": "Błażej B",
      "userId": "09393835138747022407"
     }
    },
    "outputId": "8b1474b0-9a99-4caa-85b5-a71e16392701",
    "pycharm": {
     "name": "#%%\n"
    }
   },
   "execution_count": 26,
   "outputs": [
    {
     "output_type": "display_data",
     "data": {
      "text/plain": [
       "<Figure size 640x480 with 1 Axes>"
      ],
      "image/png": "[encoded data removed]"
     },
     "metadata": {}
    }
   ]
  },
  {
   "cell_type": "code",
   "source": [
    "chilling_model.save(\"Chilling_model.keras\")"
   ],
   "metadata": {
    "id": "J3RJ53KFY6Yp",
    "executionInfo": {
     "status": "ok",
     "timestamp": 1706115199787,
     "user_tz": -60,
     "elapsed": 275,
     "user": {
      "displayName": "Błażej B",
      "userId": "09393835138747022407"
     }
    },
    "pycharm": {
     "name": "#%%\n"
    }
   },
   "execution_count": 27,
   "outputs": []
  }
 ]
}